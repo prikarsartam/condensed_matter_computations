{
 "cells": [
  {
   "cell_type": "code",
   "execution_count": 1,
   "metadata": {},
   "outputs": [],
   "source": [
    "import sys, os\n",
    "import multiprocessing\n",
    "\n",
    "logical_cores = os.cpu_count()\n",
    "physical_cores = multiprocessing.cpu_count()\n",
    "\n",
    "os.environ[\"OMP_NUM_THREADS\"] = \"1\"  # set number of OpenMP threads to run in parallel\n",
    "os.environ[\"MKL_NUM_THREADS\"] = \"1\"  # set number of MKL threads to run in parallel\n",
    "\n",
    "import matplotlib.pyplot as plt\n",
    "\n",
    "from quspin.operators import hamiltonian  # Hamiltonians and operators\n",
    "from quspin.basis import spin_basis_1d  # Hilbert space spin basis_1d\n",
    "from quspin.basis.user import user_basis  # Hilbert space user basis\n",
    "from quspin.basis.user import (\n",
    "    op_sig_32,\n",
    "    map_sig_32,\n",
    ")\n",
    "from numba import carray, cfunc  # numba helper functions\n",
    "from numba import uint32, int32  # numba data types\n",
    "\n",
    "import numpy as np\n",
    "from scipy.special import comb\n",
    "np.set_printoptions(precision=24, floatmode='fixed')\n",
    "from joblib import Parallel, delayed\n",
    "import time as T\n",
    "from tqdm import tqdm\n",
    "from tqdm.notebook import tqdm\n",
    "\n",
    "def ThreeSpinIsing_GS__no_symm_(N, h):\n",
    "    if N % 3 != 0:\n",
    "        raise ValueError(\"System size N must be a multiple of 3.\")\n",
    "    basis = spin_basis_1d(N, pauli=True)\n",
    "    three_spin_list = [[-1.0, i, (i+1) % N, (i+2) % N] for i in range(N)]  # Three-spin interaction\n",
    "    transverse_field_list = [[-h, i] for i in range(N)]  # Transverse field\n",
    "    static = [[\"zzz\", three_spin_list], [\"x\", transverse_field_list]]\n",
    "    dynamic = []  # No time-dependent terms\n",
    "    H = hamiltonian(static, dynamic, basis=basis, dtype=np.float64, check_symm=False, check_herm=False, check_pcon=False)\n",
    "    E, psi0 = H.eigsh(k=1, which='SA')  # Smallest eigenvalue ('SA' for smallest algebraic)\n",
    "    psi0 = np.sign(psi0[0])*psi0\n",
    "    return E[0], psi0  # Return ground state energy and eigenvector\n",
    "\n",
    "def D1_bitmask_pattern__3(N):\n",
    "    pattern = ['1', '1', '0']\n",
    "    num_cycles = N // len(pattern)\n",
    "    remaining_elements = N % len(pattern)\n",
    "    operator_string = pattern * num_cycles + pattern[:remaining_elements]\n",
    "    return operator_string\n",
    "def D2_bitmask_pattern__3(N):\n",
    "    pattern = ['0', '1', '1']\n",
    "    num_cycles = N // len(pattern)\n",
    "    remaining_elements = N % len(pattern)\n",
    "    operator_string = pattern * num_cycles + pattern[:remaining_elements]\n",
    "    return operator_string\n",
    "def D3_bitmask_pattern__3(N):\n",
    "    pattern = ['1', '0', '1']\n",
    "    num_cycles = N // len(pattern)\n",
    "    remaining_elements = N % len(pattern)\n",
    "    operator_string = pattern * num_cycles + pattern[:remaining_elements]\n",
    "    return operator_string"
   ]
  },
  {
   "cell_type": "code",
   "execution_count": 2,
   "metadata": {},
   "outputs": [],
   "source": [
    "N = 6\n",
    "\n",
    "@cfunc(op_sig_32,locals=dict(s=int32, n=int32, b=uint32))\n",
    "def op(op_struct_ptr, op_str, site_ind, N, args):\n",
    "    op_struct = carray(op_struct_ptr, 1)[0]\n",
    "    err = 0\n",
    "    site_ind = N - site_ind - 1                         # convention for QuSpin for mapping from bits to sites.\n",
    "    n = (op_struct.state >> site_ind) & 1               # either 0 or 1\n",
    "    s = (((op_struct.state >> site_ind) & 1) << 1) - 1  # either -1 or 1\n",
    "    b = 1 << site_ind\n",
    "    if op_str == 120:                                   # \"x\" is integer value 120 = ord(\"x\")\n",
    "        op_struct.state ^= b\n",
    "    elif op_str == 121:                                 # \"y\" is integer value 120 = ord(\"y\")\n",
    "        op_struct.state ^= b\n",
    "        op_struct.matrix_ele *= 1.0j * s\n",
    "    elif op_str == 43:                                  # \"+\" is integer value 43 = ord(\"+\")\n",
    "        if n:\n",
    "            op_struct.matrix_ele = 0\n",
    "        else:\n",
    "            op_struct.state ^= b                        # create spin\n",
    "    elif op_str == 45:                                  # \"-\" is integer value 45 = ord(\"-\")\n",
    "        if n:\n",
    "            op_struct.state ^= b                        # destroy spin\n",
    "        else:\n",
    "            op_struct.matrix_ele = 0\n",
    "    elif op_str == 122:                                 # \"z\" is integer value 120 = ord(\"z\")\n",
    "        op_struct.matrix_ele *= s\n",
    "    elif op_str == 110:                                 # \"n\" is integer value 110 = ord(\"n\")\n",
    "        op_struct.matrix_ele *= n\n",
    "    elif op_str == 73:                                  # \"I\" is integer value 73 = ord(\"I\")\n",
    "        pass\n",
    "    else:\n",
    "        op_struct.matrix_ele = 0\n",
    "        err = -1\n",
    "    return err\n",
    "op_args = np.array([], dtype=np.uint32)\n",
    "# ---------------------------------------------------------------\n",
    "#######  define symmetry maps  #######\n",
    "# ---------------------------------------------------------------\n",
    "@cfunc(map_sig_32,locals=dict(shift=uint32,xmax=uint32,x1=uint32,x2=uint32,period=int32,l=int32))\n",
    "def translation(x, N, sign_ptr, args):\n",
    "    \"\"\"works for all system sizes N.\"\"\"\n",
    "    shift = args[0]                                     # translate state by shift sites\n",
    "    period = N                                          # periodicity/cyclicity of translation\n",
    "    xmax = args[1]\n",
    "    l = (shift + period) % period\n",
    "    x1 = x >> (period - l)\n",
    "    x2 = (x << l) & xmax\n",
    "    return x2 | x1\n",
    "\n",
    "T_args = np.array([1, (1 << N) - 1], dtype=np.uint32)\n",
    "\n",
    "D1_bitmask = int(''.join(D1_bitmask_pattern__3(N)), 2)\n",
    "D2_bitmask = int(''.join(D2_bitmask_pattern__3(N)), 2)\n",
    "D3_bitmask = int(''.join(D3_bitmask_pattern__3(N)), 2)\n",
    "\n",
    "@cfunc(map_sig_32)\n",
    "def D1(x, N, sign_ptr, args):\n",
    "    \"\"\"works for all system sizes N.\"\"\"\n",
    "    return x ^ D1_bitmask\n",
    "D1_args = np.array([], dtype=np.uint32)\n",
    "@cfunc(map_sig_32)\n",
    "def D2(x, N, sign_ptr, args):\n",
    "    \"\"\"works for all system sizes N.\"\"\"\n",
    "    return x ^ D2_bitmask\n",
    "D2_args = np.array([], dtype=np.uint32)\n",
    "@cfunc(map_sig_32)\n",
    "def D3(x, N, sign_ptr, args):\n",
    "    \"\"\"works for all system sizes N.\"\"\"\n",
    "    return x ^ D3_bitmask\n",
    "D3_args = np.array([], dtype=np.uint32)\n",
    "maps = dict(\n",
    "    D1_block=(D1, 2, 0, D1_args),\n",
    "    D2_block=(D2, 2, 0, D2_args),\n",
    "    D3_block=(D3, 2, 0, D3_args),     \n",
    "    T_block=(translation, N, 0, T_args),   \n",
    ")\n",
    "op_dict = dict(op=op, op_args=op_args)\n",
    "basis__ = user_basis(\n",
    "    np.uint32,\n",
    "    N,\n",
    "    op_dict,\n",
    "    allowed_ops=set(\"+-xyznI\"),\n",
    "    sps=2,\n",
    "    Ns_block_est=int((2**(N-2))/(N-1)),\n",
    "    **maps,)\n",
    "\n",
    "three_spin_list = [[-1.0, i, (i+1) % N, (i+2) % N] for i in range(N)]    # Three-spin interaction\n",
    "\n",
    "def ThreeSpinIsing_GS__sublattice_symm_3(h):\n",
    "    transverse_field_list = [[-h, i] for i in range(N)]                             # Transverse field\n",
    "    static = [[\"zzz\", three_spin_list], [\"x\", transverse_field_list]]                                                                    # No time-dependent terms\n",
    "    H = hamiltonian(static, [], basis=basis__, dtype=np.float64, check_symm=False, check_herm=False, check_pcon=False)\n",
    "    gs_energy, psi0 = H.eigsh(k=1, which='SA')  \n",
    "    norm = np.linalg.norm(psi0)\n",
    "    if norm != 0:\n",
    "        psi0 /= norm\n",
    "    return gs_energy[0], np.sign(psi0[0])*psi0"
   ]
  },
  {
   "cell_type": "code",
   "execution_count": 3,
   "metadata": {},
   "outputs": [
    {
     "data": {
      "text/plain": [
       "np.float64(-7.135642302774768)"
      ]
     },
     "execution_count": 3,
     "metadata": {},
     "output_type": "execute_result"
    }
   ],
   "source": [
    "gs_energy, wv_func = ThreeSpinIsing_GS__sublattice_symm_3(0.9)\n",
    "gs_energy\n"
   ]
  },
  {
   "cell_type": "code",
   "execution_count": 4,
   "metadata": {},
   "outputs": [
    {
     "data": {
      "text/plain": [
       "np.float64(-7.483314773547881)"
      ]
     },
     "execution_count": 4,
     "metadata": {},
     "output_type": "execute_result"
    }
   ],
   "source": [
    "en, wv = ThreeSpinIsing_GS__sublattice_symm_3(1.0)\n",
    "en"
   ]
  },
  {
   "cell_type": "code",
   "execution_count": 5,
   "metadata": {},
   "outputs": [
    {
     "data": {
      "text/plain": [
       "6"
      ]
     },
     "execution_count": 5,
     "metadata": {},
     "output_type": "execute_result"
    }
   ],
   "source": [
    "len(wv)"
   ]
  },
  {
   "cell_type": "code",
   "execution_count": null,
   "metadata": {},
   "outputs": [],
   "source": []
  },
  {
   "cell_type": "code",
   "execution_count": null,
   "metadata": {},
   "outputs": [],
   "source": []
  },
  {
   "cell_type": "code",
   "execution_count": null,
   "metadata": {},
   "outputs": [],
   "source": []
  },
  {
   "cell_type": "code",
   "execution_count": null,
   "metadata": {},
   "outputs": [],
   "source": []
  },
  {
   "cell_type": "code",
   "execution_count": null,
   "metadata": {},
   "outputs": [],
   "source": []
  },
  {
   "cell_type": "code",
   "execution_count": null,
   "metadata": {},
   "outputs": [],
   "source": []
  },
  {
   "cell_type": "code",
   "execution_count": null,
   "metadata": {},
   "outputs": [],
   "source": []
  },
  {
   "cell_type": "code",
   "execution_count": null,
   "metadata": {},
   "outputs": [],
   "source": []
  },
  {
   "cell_type": "code",
   "execution_count": null,
   "metadata": {},
   "outputs": [],
   "source": []
  },
  {
   "cell_type": "code",
   "execution_count": null,
   "metadata": {},
   "outputs": [],
   "source": []
  }
 ],
 "metadata": {
  "kernelspec": {
   "display_name": "QuSpin",
   "language": "python",
   "name": "python3"
  },
  "language_info": {
   "codemirror_mode": {
    "name": "ipython",
    "version": 3
   },
   "file_extension": ".py",
   "mimetype": "text/x-python",
   "name": "python",
   "nbconvert_exporter": "python",
   "pygments_lexer": "ipython3",
   "version": "3.10.15"
  }
 },
 "nbformat": 4,
 "nbformat_minor": 2
}
