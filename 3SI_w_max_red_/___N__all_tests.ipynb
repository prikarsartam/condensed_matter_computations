{
 "cells": [
  {
   "cell_type": "code",
   "execution_count": 1,
   "metadata": {},
   "outputs": [],
   "source": [
    "import sys, os\n",
    "import multiprocessing\n",
    "\n",
    "logical_cores = os.cpu_count()\n",
    "physical_cores = multiprocessing.cpu_count()\n",
    "\n",
    "os.environ[\"OMP_NUM_THREADS\"] = \"12\"  # set number of OpenMP threads to run in parallel\n",
    "os.environ[\"MKL_NUM_THREADS\"] = \"12\"  # set number of MKL threads to run in parallel\n",
    "\n",
    "import matplotlib.pyplot as plt\n",
    "\n",
    "from quspin.operators import hamiltonian  # Hamiltonians and operators\n",
    "from quspin.basis import spin_basis_1d  # Hilbert space spin basis_1d\n",
    "from quspin.basis.user import user_basis  # Hilbert space user basis\n",
    "from quspin.basis.user import (\n",
    "    op_sig_32,\n",
    "    map_sig_32,\n",
    ")\n",
    "from numba import carray, cfunc  # numba helper functions\n",
    "from numba import uint32, int32  # numba data types\n",
    "\n",
    "import numpy as np\n",
    "from scipy.special import comb\n",
    "np.set_printoptions(precision=24, floatmode='fixed')\n",
    "from joblib import Parallel, delayed\n",
    "import time as T\n",
    "from tqdm import tqdm\n",
    "from tqdm.notebook import tqdm\n",
    "import plotly.express as px\n",
    "\n",
    "def visualize_mat(mat):\n",
    "    fig = px.imshow(mat, color_continuous_scale='Viridis')\n",
    "    fig.show()"
   ]
  },
  {
   "cell_type": "code",
   "execution_count": 11,
   "metadata": {},
   "outputs": [
    {
     "name": "stdout",
     "output_type": "stream",
     "text": [
      "\n",
      "Exact diagonalization - No restriction on the Hilbert space\n",
      "Ground state energy of 6 spins = -7.483314773547887\n",
      "took 0.0068 seconds\n",
      "\n",
      "\n",
      "Exact diagonalization with {D1, D2, D3} symmetries and kblock=0\n",
      "Ground state energy of 6 spins = -7.483314773547885\n",
      "took 0.4308 seconds\n",
      "\n"
     ]
    }
   ],
   "source": [
    "def ThreeSpinIsing_GS__no_symm_(N, h):\n",
    "    if N % 3 != 0:\n",
    "        raise ValueError(\"System size N must be a multiple of 3.\")\n",
    "        return None\n",
    "    entire_hilbert_space_basis = spin_basis_1d(N, pauli=True)\n",
    "    three_spin_list = [[-1.0, i, (i+1) % N, (i+2) % N] for i in range(N)]  # Three-spin interaction\n",
    "    transverse_field_list = [[-h, i] for i in range(N)]  # Transverse field\n",
    "    static = [[\"zzz\", three_spin_list], [\"x\", transverse_field_list]]\n",
    "    dynamic = []  # No time-dependent terms\n",
    "    H = hamiltonian(static, dynamic, basis=entire_hilbert_space_basis, dtype=np.float64, check_symm=False, check_herm=False, check_pcon=False)\n",
    "    E, psi0 = H.eigsh(k=1, which='SA')  # Smallest eigenvalue ('SA' for smallest algebraic)\n",
    "    norm = np.linalg.norm(psi0)\n",
    "    if norm != 0:\n",
    "        psi0 /= norm\n",
    "    psi0 = np.sign(psi0[0])*psi0\n",
    "    return E[0], entire_hilbert_space_basis, psi0  # Return ground state energy and eigenvector\n",
    "\n",
    "def D1_bitmask_pattern__3(N):\n",
    "    pattern = ['1', '1', '0']\n",
    "    num_cycles = N // len(pattern)\n",
    "    remaining_elements = N % len(pattern)\n",
    "    operator_string = pattern * num_cycles + pattern[:remaining_elements]\n",
    "    return operator_string\n",
    "def D2_bitmask_pattern__3(N):\n",
    "    pattern = ['0', '1', '1']\n",
    "    num_cycles = N // len(pattern)\n",
    "    remaining_elements = N % len(pattern)\n",
    "    operator_string = pattern * num_cycles + pattern[:remaining_elements]\n",
    "    return operator_string\n",
    "def D3_bitmask_pattern__3(N):\n",
    "    pattern = ['1', '0', '1']\n",
    "    num_cycles = N // len(pattern)\n",
    "    remaining_elements = N % len(pattern)\n",
    "    operator_string = pattern * num_cycles + pattern[:remaining_elements]\n",
    "    return operator_string\n",
    "# my_sector_blocks = {\n",
    "# \"D_block__\": [0, 0, 0],\n",
    "# \"k_block__\": 0,\n",
    "# }\n",
    "\n",
    "def get_sector_value(sector_name, s_dict):\n",
    "    return s_dict.get(sector_name, None)\n",
    "\n",
    "def ThreeSpinIsing_GS__sublattice_symm_3(N, hval_, sector_blocks):\n",
    "    if N % 3 != 0:\n",
    "        raise ValueError(\"System size N must be a multiple of 3.\")\n",
    "        return None\n",
    "    @cfunc(op_sig_32,locals=dict(s=int32, n=int32, b=uint32))\n",
    "    def op(op_struct_ptr, op_str, site_ind, N, args):\n",
    "        op_struct = carray(op_struct_ptr, 1)[0]\n",
    "        err = 0\n",
    "        site_ind = N - site_ind - 1                         # convention for QuSpin for mapping from bits to sites.\n",
    "        n = (op_struct.state >> site_ind) & 1               # either 0 or 1\n",
    "        s = (((op_struct.state >> site_ind) & 1) << 1) - 1  # either -1 or 1\n",
    "        b = 1 << site_ind\n",
    "        if op_str == 120:                                   # \"x\" is integer value 120 = ord(\"x\")\n",
    "            op_struct.state ^= b\n",
    "        elif op_str == 121:                                 # \"y\" is integer value 120 = ord(\"y\")\n",
    "            op_struct.state ^= b\n",
    "            op_struct.matrix_ele *= 1.0j * s\n",
    "        elif op_str == 43:                                  # \"+\" is integer value 43 = ord(\"+\")\n",
    "            if n:\n",
    "                op_struct.matrix_ele = 0\n",
    "            else:\n",
    "                op_struct.state ^= b                        # create spin\n",
    "        elif op_str == 45:                                  # \"-\" is integer value 45 = ord(\"-\")\n",
    "            if n:\n",
    "                op_struct.state ^= b                        # destroy spin\n",
    "            else:\n",
    "                op_struct.matrix_ele = 0\n",
    "        elif op_str == 122:                                 # \"z\" is integer value 120 = ord(\"z\")\n",
    "            op_struct.matrix_ele *= s\n",
    "        elif op_str == 110:                                 # \"n\" is integer value 110 = ord(\"n\")\n",
    "            op_struct.matrix_ele *= n\n",
    "        elif op_str == 73:                                  # \"I\" is integer value 73 = ord(\"I\")\n",
    "            pass\n",
    "        else:\n",
    "            op_struct.matrix_ele = 0\n",
    "            err = -1\n",
    "        return err\n",
    "    op_args = np.array([], dtype=np.uint32)\n",
    "    # ---------------------------------------------------------------\n",
    "    #######  define symmetry maps  #######\n",
    "    # ---------------------------------------------------------------\n",
    "    # the translation operator. In order to be defined with @cfunc decorator it needs to be defined after the variable `N` is assigned in the machine.\n",
    "    @cfunc(map_sig_32,locals=dict(shift=uint32,xmax=uint32,x1=uint32,x2=uint32,period=int32,l=int32))\n",
    "    def translation(x, N, sign_ptr, args):\n",
    "        \"\"\"works for all system sizes N.\"\"\"\n",
    "        shift = args[0]                                     # translate state by shift sites\n",
    "        period = N                                          # periodicity/cyclicity of translation\n",
    "        xmax = args[1]\n",
    "        l = (shift + period) % period\n",
    "        x1 = x >> (period - l)\n",
    "        x2 = (x << l) & xmax\n",
    "        return x2 | x1\n",
    "    T_args = np.array([1, (1 << N) - 1], dtype=np.uint32)\n",
    "\n",
    "    # operators using the bitmasks for the D_i symmetries\n",
    "    @cfunc(map_sig_32)\n",
    "    def D1(x, N, sign_ptr, args):\n",
    "        return x ^ args[0]\n",
    "    D1_args = np.array([int(''.join(D1_bitmask_pattern__3(N)), 2)], dtype=np.uint32)\n",
    "\n",
    "    @cfunc(map_sig_32)\n",
    "    def D2(x, N, sign_ptr, args):\n",
    "        return x ^ args[0]\n",
    "    D2_args = np.array([int(''.join(D2_bitmask_pattern__3(N)), 2)], dtype=np.uint32)\n",
    "\n",
    "    @cfunc(map_sig_32)\n",
    "    def D3(x, N, sign_ptr, args):\n",
    "        return x ^ args[0]\n",
    "    D3_args = np.array([int(''.join(D3_bitmask_pattern__3(N)), 2)], dtype=np.uint32)\n",
    "\n",
    "\n",
    "    D1_quantum_num = get_sector_value(\"D_block__\", sector_blocks)[0]\n",
    "    D2_quantum_num = get_sector_value(\"D_block__\", sector_blocks)[1]\n",
    "    D3_quantum_num = get_sector_value(\"D_block__\", sector_blocks)[2]\n",
    "\n",
    "    momentum_quantum_num = get_sector_value(\"k_block__\", sector_blocks)\n",
    "\n",
    "    # The dictionary for all the details of the unique sector in which we restrict out choice of bases\n",
    "    if momentum_quantum_num is None:\n",
    "        maps = dict(\n",
    "        # T_block=(translation, N, momentum_quantum_num, T_args),        # tuning off the momentum_sector_fix helps check the depencendies over {D_i}'s alone\n",
    "        D1_block=(D1, 2, D1_quantum_num, D1_args),\n",
    "        D2_block=(D2, 2, D2_quantum_num, D2_args),\n",
    "        D3_block=(D3, 2, D3_quantum_num, D3_args),        \n",
    "        )       \n",
    "        op_dict = dict(op=op, op_args=op_args)\n",
    "        basis = user_basis(\n",
    "            np.uint32,\n",
    "            N,\n",
    "            op_dict,\n",
    "            allowed_ops=set(\"+-xyznI\"),\n",
    "            sps=2,\n",
    "            Ns_block_est = 2**(N-2),         # estimate of number of states in each block when [{D_i} + kblock=0 is] set\n",
    "            # Ns_block_est=int((2**(N-2))/(N-2)),         # estimate of number of states in each block when [{D_i} + kblock=0 is] set\n",
    "            **maps,)\n",
    "    else:\n",
    "        maps = dict(\n",
    "        T_block=(translation, N, momentum_quantum_num, T_args),        # tuning off the momentum_sector_fix helps check the depencendies over {D_i}'s alone\n",
    "        D1_block=(D1, 2, D1_quantum_num, D1_args),\n",
    "        D2_block=(D2, 2, D2_quantum_num, D2_args),\n",
    "        D3_block=(D3, 2, D3_quantum_num, D3_args),   \n",
    "        ) \n",
    "        op_dict = dict(op=op, op_args=op_args)\n",
    "        basis = user_basis(\n",
    "            np.uint32,\n",
    "            N,\n",
    "            op_dict,\n",
    "            allowed_ops=set(\"+-xyznI\"),\n",
    "            sps=2,\n",
    "            Ns_block_est=int((2**(N-2))/(N-1)),         # estimate of number of states in each block when [{D_i} + kblock=0 is] set\n",
    "            **maps,)    \n",
    "\n",
    "    \n",
    "    h=hval_\n",
    "    three_spin_list = [[-1.0, i, (i+1) % N, (i+2) % N] for i in range(N)]           # Three-spin interaction\n",
    "    transverse_field_list = [[-h, i] for i in range(N)]                             # Transverse field\n",
    "    static = [[\"zzz\", three_spin_list], [\"x\", transverse_field_list]]\n",
    "    dynamic = []                                                                    # No time-dependent terms\n",
    "    H = hamiltonian(static, dynamic, basis=basis, dtype=np.float64, check_symm=False, check_herm=False, check_pcon=False)\n",
    "    gs_energy, psi0 = H.eigsh(k=1, which='SA')  \n",
    "    norm = np.linalg.norm(psi0)\n",
    "    if norm != 0:\n",
    "        psi0 /= norm\n",
    "    return gs_energy[0], basis, np.sign(psi0[0])*psi0\n",
    "\n",
    "\n",
    "\n",
    "N = 6\n",
    "h_VAL = 1.0\n",
    "\n",
    "st__0 = T.time()\n",
    "\n",
    "\n",
    "gs_energy, unresrticted_basis, gs_wvfunc = ThreeSpinIsing_GS__no_symm_(N, h_VAL)\n",
    "print('\\nExact diagonalization - No restriction on the Hilbert space')\n",
    "print(f'Ground state energy of {N} spins = {gs_energy}')\n",
    "print(f'took {T.time()-st__0:.4f} seconds\\n\\n')\n",
    "st__0 = T.time()\n",
    "\n",
    "\n",
    "my_sector_blocks = {\n",
    "\"D_block__\": [0, 0, 0],\n",
    "\"k_block__\": 0,\n",
    "}\n",
    "\n",
    "print('Exact diagonalization with {D1, D2, D3} symmetries and kblock=0')\n",
    "gs_energy__, D_restricted_basis, gs_wvfunc__ = ThreeSpinIsing_GS__sublattice_symm_3(N, h_VAL, sector_blocks = my_sector_blocks)\n",
    "print(f'Ground state energy of {N} spins = {gs_energy__}')\n",
    "print(f'took {T.time()-st__0:.4f} seconds\\n')"
   ]
  },
  {
   "cell_type": "code",
   "execution_count": 46,
   "metadata": {},
   "outputs": [
    {
     "name": "stdout",
     "output_type": "stream",
     "text": [
      "For this test, only the (D_i) sectors are used without choosing any momentum sector.\n",
      "\n",
      "Exact diagonalization - No restriction on the Hilbert space\n",
      "Ground state energy of 6 spins = -6.0\n",
      "sector size = 64\n",
      "took 0.003732 seconds\n",
      "\n",
      "\n",
      "Exact diagonalization with (D1, D2, D3) = (+1, +1, +1) and kblock = None.\n",
      "Ground state energy of 6 spins = -6.0000000000000036\n",
      "sector size = 16\n",
      "took 0.390207 seconds\n",
      "\n",
      "Error in ground state energy = 3.552713678800501e-15\n",
      "With dimensional reduction : (prev_sector_dim / reduced_sector_dim)  = 4.0 fold reduction in the Hilbert space\n",
      "\n",
      "Exact diagonalization with (D1, D2, D3) = (-1, +1, -1) and kblock = None.\n",
      "Ground state energy of 6 spins = -6.000000000000002\n",
      "sector size = 16\n",
      "took 0.305067 seconds\n",
      "\n",
      "Exact diagonalization with (D1, D2, D3) = (-1, -1, +1) and kblock = None.\n",
      "Ground state energy of 6 spins = -6.0\n",
      "sector size = 16\n",
      "took 0.307015 seconds\n",
      "\n",
      "Exact diagonalization with (D1, D2, D3) = (+1, -1, -1) and kblock = None.\n",
      "Ground state energy of 6 spins = -5.999999999999999\n",
      "sector size = 16\n",
      "took 0.318762 seconds\n",
      "\n"
     ]
    }
   ],
   "source": [
    "N = 6\n",
    "h_VAL = 0.0\n",
    "st__0 = T.time()\n",
    "\n",
    "print('For this test, only the (D_i) sectors are used without choosing any momentum sector.')\n",
    "gs_energy, basis, gs_wvfunc = ThreeSpinIsing_GS__no_symm_(N, h_VAL)\n",
    "print('\\nExact diagonalization - No restriction on the Hilbert space')\n",
    "print(f'Ground state energy of {N} spins = {gs_energy}')\n",
    "print(f'sector size = {len(basis._basis)}')\n",
    "print(f'took {T.time()-st__0:.6f} seconds\\n\\n')\n",
    "st__0 = T.time()\n",
    "\n",
    "my_sector_blocks = {\"D_block__\": [0, 0, 0], \"k_block__\": None}\n",
    "\n",
    "print(f'Exact diagonalization with (D1, D2, D3) = (+1, +1, +1) and kblock = {get_sector_value(\"k_block__\", my_sector_blocks)}.')\n",
    "gs_energy__, D_restricted_basis, gs_wvfunc__ = ThreeSpinIsing_GS__sublattice_symm_3(N, h_VAL, sector_blocks = my_sector_blocks)\n",
    "print(f'Ground state energy of {N} spins = {gs_energy__}')\n",
    "print(f'sector size = {len(D_restricted_basis._basis)}')\n",
    "print(f'took {T.time()-st__0:.6f} seconds\\n')\n",
    "\n",
    "print(f'Error in ground state energy = {abs(gs_energy__ - gs_energy)}')\n",
    "print(f'With dimensional reduction : (prev_sector_dim / reduced_sector_dim)  = {len(basis._basis)/len(D_restricted_basis._basis)} fold reduction in the Hilbert space\\n')\n",
    "\n",
    "\n",
    "st__0 = T.time()\n",
    "\n",
    "\n",
    "my_sector_blocks_A = {\"D_block__\": [1, 0, 1], \"k_block__\": None}\n",
    "\n",
    "print(f'Exact diagonalization with (D1, D2, D3) = (-1, +1, -1) and kblock = {get_sector_value(\"k_block__\", my_sector_blocks_A)}.')\n",
    "gs_energy__A, D_restricted_basis_A, gs_wvfunc__A = ThreeSpinIsing_GS__sublattice_symm_3(N, h_VAL, sector_blocks = my_sector_blocks_A)\n",
    "print(f'Ground state energy of {N} spins = {gs_energy__A}')\n",
    "print(f'sector size = {len(D_restricted_basis_A._basis)}')\n",
    "print(f'took {T.time()-st__0:.6f} seconds\\n')\n",
    "st__0 = T.time()\n",
    "\n",
    "my_sector_blocks_B = {\"D_block__\": [1, 1, 0], \"k_block__\": None}\n",
    "\n",
    "print(f'Exact diagonalization with (D1, D2, D3) = (-1, -1, +1) and kblock = {get_sector_value(\"k_block__\", my_sector_blocks_B)}.')\n",
    "gs_energy__B, D_restricted_basis_B, gs_wvfunc__B = ThreeSpinIsing_GS__sublattice_symm_3(N, h_VAL, sector_blocks = my_sector_blocks_B)\n",
    "print(f'Ground state energy of {N} spins = {gs_energy__B}')\n",
    "print(f'sector size = {len(D_restricted_basis_B._basis)}')\n",
    "print(f'took {T.time()-st__0:.6f} seconds\\n')\n",
    "st__0 = T.time()\n",
    "\n",
    "my_sector_blocks_C = {\"D_block__\": [0, 1, 1], \"k_block__\": None}\n",
    "\n",
    "print(f'Exact diagonalization with (D1, D2, D3) = (+1, -1, -1) and kblock = {get_sector_value(\"k_block__\", my_sector_blocks_C)}.')\n",
    "gs_energy__C, D_restricted_basis_C, gs_wvfunc__C = ThreeSpinIsing_GS__sublattice_symm_3(N, h_VAL, sector_blocks = my_sector_blocks_C)\n",
    "print(f'Ground state energy of {N} spins = {gs_energy__C}')\n",
    "print(f'sector size = {len(D_restricted_basis_C._basis)}')\n",
    "print(f'took {T.time()-st__0:.6f} seconds\\n')\n",
    "st__0 = T.time()"
   ]
  },
  {
   "cell_type": "code",
   "execution_count": 7,
   "metadata": {},
   "outputs": [
    {
     "data": {
      "text/plain": [
       "{'_count_particles': False,\n",
       " '_check_herm': None,\n",
       " '_check_pcon': None,\n",
       " '_check_symm': None,\n",
       " '_unique_me': True,\n",
       " '_basis_pcon': None,\n",
       " '_get_proj_pcon': False,\n",
       " '_made_basis': True,\n",
       " '_noncommuting_bits': [],\n",
       " '_N': 6,\n",
       " '_blocks': {'D3_block': 1, 'D2_block': 1, 'D1_block': 1},\n",
       " 'map_funcs': (<Numba C callback 'ThreeSpinIsing_GS__sublattice_symm_3.<locals>.D3'>,\n",
       "  <Numba C callback 'ThreeSpinIsing_GS__sublattice_symm_3.<locals>.D2'>,\n",
       "  <Numba C callback 'ThreeSpinIsing_GS__sublattice_symm_3.<locals>.D1'>),\n",
       " '_pers': array([2, 2, 2]),\n",
       " '_qs': array([0, 0, 0]),\n",
       " 'map_args': (array([45], dtype=uint32),\n",
       "  array([27], dtype=uint32),\n",
       "  array([54], dtype=uint32)),\n",
       " '_basis_dtype': numpy.uint32,\n",
       " '_core_args': (64,\n",
       "  numpy.uint32,\n",
       "  6,\n",
       "  2,\n",
       "  (<Numba C callback 'ThreeSpinIsing_GS__sublattice_symm_3.<locals>.D3'>,\n",
       "   <Numba C callback 'ThreeSpinIsing_GS__sublattice_symm_3.<locals>.D2'>,\n",
       "   <Numba C callback 'ThreeSpinIsing_GS__sublattice_symm_3.<locals>.D1'>),\n",
       "  (2, 2, 2),\n",
       "  (0, 0, 0),\n",
       "  (array([45], dtype=uint32),\n",
       "   array([27], dtype=uint32),\n",
       "   array([54], dtype=uint32)),\n",
       "  -1,\n",
       "  None,\n",
       "  None,\n",
       "  None,\n",
       "  None,\n",
       "  None,\n",
       "  None,\n",
       "  False,\n",
       "  None,\n",
       "  None,\n",
       "  <Numba C callback 'ThreeSpinIsing_GS__sublattice_symm_3.<locals>.op'>,\n",
       "  array([], dtype=uint32)),\n",
       " '_core': <quspin_extensions.basis.basis_general._basis_general_core.user_core.user_core_wrap at 0x7bbf8cec4110>,\n",
       " '_Ns': 16,\n",
       " '_Ns_block_est': 16,\n",
       " '_Np': None,\n",
       " '_sps': 2,\n",
       " '_allowed_ops': {'+', '-', 'I', 'n', 'x', 'y', 'z'},\n",
       " '_n_dtype': dtype('uint8'),\n",
       " '_basis': array([63, 62, 61, 60, 59, 58, 57, 56, 55, 54, 53, 52, 51, 50, 49, 48],\n",
       "       dtype=uint32),\n",
       " '_n': array([2, 2, 2, 2, 2, 2, 2, 2, 2, 2, 2, 2, 2, 2, 2, 2], dtype=uint8),\n",
       " '_index_type': numpy.int32,\n",
       " '_N_p': 3,\n",
       " '_basis_begin': array([-1, -1, -1, -1, -1, -1,  8,  0]),\n",
       " '_basis_end': array([-1, -1, -1, -1, -1, -1, 16,  8])}"
      ]
     },
     "execution_count": 7,
     "metadata": {},
     "output_type": "execute_result"
    }
   ],
   "source": [
    "vars(basis__)"
   ]
  },
  {
   "cell_type": "code",
   "execution_count": 4,
   "metadata": {},
   "outputs": [
    {
     "data": {
      "text/plain": [
       "array([0.390097619653463012490135, 0.390097619653463012490135,\n",
       "       0.390097619653463012490135, 0.390097619653463012490135,\n",
       "       0.096439593726307504262252, 0.096439593726307504262252,\n",
       "       0.096439593726307504262252, 0.096439593726307504262252,\n",
       "       0.096439593726307504262252, 0.096439593726307504262252,\n",
       "       0.096439593726307504262252, 0.096439593726307504262252,\n",
       "       0.096439593726307504262252, 0.096439593726307504262252,\n",
       "       0.096439593726307504262252, 0.096439593726307504262252,\n",
       "       0.096439593726307504262252, 0.096439593726307504262252,\n",
       "       0.096439593726307504262252, 0.096439593726307504262252,\n",
       "       0.096439593726307504262252, 0.096439593726307504262252,\n",
       "       0.096439593726307504262252, 0.096439593726307504262252,\n",
       "       0.096439593726307504262252, 0.096439593726307504262252,\n",
       "       0.096439593726307504262252, 0.096439593726307504262252,\n",
       "       0.091456702393964708908136, 0.091456702393964708908136,\n",
       "       0.091456702393964708908136, 0.091456702393964708908136,\n",
       "       0.091456702393964708908136, 0.091456702393964708908136,\n",
       "       0.091456702393964708908136, 0.091456702393964708908136,\n",
       "       0.091456702393964708908136, 0.091456702393964708908136,\n",
       "       0.091456702393964708908136, 0.091456702393964708908136,\n",
       "       0.052880864903441696101005, 0.052880864903441696101005,\n",
       "       0.052880864903441696101005, 0.052880864903441696101005,\n",
       "       0.052880864903441696101005, 0.052880864903441696101005,\n",
       "       0.052880864903441696101005, 0.052880864903441696101005,\n",
       "       0.052880864903441696101005, 0.052880864903441696101005,\n",
       "       0.052880864903441696101005, 0.052880864903441696101005,\n",
       "       0.057863756235784560844060, 0.057863756235784560844060,\n",
       "       0.057863756235784560844060, 0.057863756235784560844060,\n",
       "       0.057863756235784560844060, 0.057863756235784560844060,\n",
       "       0.057863756235784560844060, 0.057863756235784560844060,\n",
       "       0.042915082238756292742909, 0.042915082238756292742909,\n",
       "       0.042915082238756292742909, 0.042915082238756292742909])"
      ]
     },
     "execution_count": 4,
     "metadata": {},
     "output_type": "execute_result"
    }
   ],
   "source": [
    "# Assuming `gs_wvfunc` and projection result are NumPy arrays\n",
    "ordered_sectored_wvfunc = basis__.project_from(gs_wvfunc__).data.flatten()[basis._basis]\n",
    "ordered_sectored_wvfunc"
   ]
  },
  {
   "cell_type": "code",
   "execution_count": 213,
   "metadata": {},
   "outputs": [
    {
     "data": {
      "text/plain": [
       "np.float64(0.6871892206437011)"
      ]
     },
     "execution_count": 213,
     "metadata": {},
     "output_type": "execute_result"
    }
   ],
   "source": [
    "np.inner(gs_wvfunc.flatten(), ordered_sectored_wvfunc)"
   ]
  },
  {
   "cell_type": "code",
   "execution_count": 161,
   "metadata": {},
   "outputs": [
    {
     "data": {
      "text/plain": [
       "64"
      ]
     },
     "execution_count": 161,
     "metadata": {},
     "output_type": "execute_result"
    }
   ],
   "source": []
  },
  {
   "cell_type": "code",
   "execution_count": null,
   "metadata": {},
   "outputs": [
    {
     "data": {
      "text/plain": [
       "np.float64(-1.1425125247312903e-16)"
      ]
     },
     "execution_count": 168,
     "metadata": {},
     "output_type": "execute_result"
    }
   ],
   "source": [
    "np.inner(basis.project_from(gs_wvfunc).data, basis__.project_from(gs_wvfunc__).data) "
   ]
  },
  {
   "cell_type": "code",
   "execution_count": null,
   "metadata": {},
   "outputs": [],
   "source": [
    "import numpy as np\n",
    "import plotly.express as px\n",
    "from scipy.sparse import csr_matrix\n",
    "\n",
    "def visualize_csr_matrix(mat):\n",
    "    fig = px.imshow(\n",
    "        mat.flatten(),\n",
    "        origin='upper',    # or 'lower' as you prefer\n",
    "        color_continuous_scale='Viridis',\n",
    "        labels=dict(color=\"Value\"),\n",
    "        title=\"CSR Matrix Visualization\"\n",
    "    )\n",
    "    fig.update_layout(\n",
    "        xaxis_title=\"Columns\",\n",
    "        yaxis_title=\"Rows\"\n",
    "    )\n",
    "    fig.show()\n",
    "\n",
    "visualize_csr_matrix(basis__.get_proj(dtype=np.float64).data)"
   ]
  },
  {
   "cell_type": "code",
   "execution_count": 139,
   "metadata": {},
   "outputs": [
    {
     "data": {
      "text/plain": [
       "64"
      ]
     },
     "execution_count": 139,
     "metadata": {},
     "output_type": "execute_result"
    }
   ],
   "source": [
    "len(basis__.get_proj(dtype=np.float64).data)"
   ]
  },
  {
   "cell_type": "code",
   "execution_count": 140,
   "metadata": {},
   "outputs": [
    {
     "data": {
      "text/plain": [
       "64"
      ]
     },
     "execution_count": 140,
     "metadata": {},
     "output_type": "execute_result"
    }
   ],
   "source": [
    "len(gs_wvfunc)"
   ]
  },
  {
   "cell_type": "code",
   "execution_count": 111,
   "metadata": {},
   "outputs": [
    {
     "data": {
      "text/plain": [
       "64"
      ]
     },
     "execution_count": 111,
     "metadata": {},
     "output_type": "execute_result"
    }
   ],
   "source": [
    "# vars(basis.project_from(gs_wvfunc))\n",
    "len(basis.project_from(gs_wvfunc).data)"
   ]
  },
  {
   "cell_type": "code",
   "execution_count": 116,
   "metadata": {},
   "outputs": [
    {
     "data": {
      "text/plain": [
       "64"
      ]
     },
     "execution_count": 116,
     "metadata": {},
     "output_type": "execute_result"
    }
   ],
   "source": [
    "# vars(basis__.project_from(gs_wvfunc__))\n",
    "len(basis__.project_from(gs_wvfunc__).data)"
   ]
  },
  {
   "cell_type": "code",
   "execution_count": 146,
   "metadata": {},
   "outputs": [
    {
     "data": {
      "text/plain": [
       "np.float64(1.0)"
      ]
     },
     "execution_count": 146,
     "metadata": {},
     "output_type": "execute_result"
    }
   ],
   "source": [
    "np.linalg.norm(basis.project_from(gs_wvfunc).data) "
   ]
  },
  {
   "cell_type": "code",
   "execution_count": 147,
   "metadata": {},
   "outputs": [
    {
     "data": {
      "text/plain": [
       "np.float64(1.0)"
      ]
     },
     "execution_count": 147,
     "metadata": {},
     "output_type": "execute_result"
    }
   ],
   "source": [
    "np.linalg.norm(basis__.project_from(gs_wvfunc__).data)"
   ]
  },
  {
   "cell_type": "code",
   "execution_count": 126,
   "metadata": {},
   "outputs": [
    {
     "data": {
      "text/plain": [
       "array([[0.390097619653462790445531],\n",
       "       [0.096439593726307615284554],\n",
       "       [0.096439593726307420995525],\n",
       "       [0.091456702393964570130258],\n",
       "       [0.096439593726307643040130],\n",
       "       [0.052880864903441758551050],\n",
       "       [0.091456702393964722785924],\n",
       "       [0.057863756235784553905166],\n",
       "       [0.096439593726307476506676],\n",
       "       [0.042915082238756306620697],\n",
       "       [0.052880864903441744673263],\n",
       "       [0.096439593726307462628888],\n",
       "       [0.091456702393964695030348],\n",
       "       [0.096439593726307615284554],\n",
       "       [0.057863756235784456760651],\n",
       "       [0.052880864903441751612156],\n",
       "       [0.096439593726307656917918],\n",
       "       [0.052880864903441703039899],\n",
       "       [0.042915082238756202537289],\n",
       "       [0.096439593726307420995525],\n",
       "       [0.052880864903441765489944],\n",
       "       [0.057863756235784435943970],\n",
       "       [0.096439593726307323851010],\n",
       "       [0.091456702393964806052651],\n",
       "       [0.091456702393964570130258],\n",
       "       [0.096439593726307587528979],\n",
       "       [0.096439593726307573651191],\n",
       "       [0.390097619653463401068194],\n",
       "       [0.057863756235784574721848],\n",
       "       [0.091456702393964847686014],\n",
       "       [0.052880864903441779367732],\n",
       "       [0.096439593726307629162342],\n",
       "       [0.096439593726307545895615],\n",
       "       [0.091456702393964681152561],\n",
       "       [0.052880864903441543445339],\n",
       "       [0.057863756235784602477423],\n",
       "       [0.042915082238756251109546],\n",
       "       [0.096439593726307545895615],\n",
       "       [0.096439593726307351606586],\n",
       "       [0.052880864903441626712066],\n",
       "       [0.052880864903441550384233],\n",
       "       [0.096439593726307448751101],\n",
       "       [0.057863756235784470638439],\n",
       "       [0.091456702393964847686014],\n",
       "       [0.096439593726307643040130],\n",
       "       [0.390097619653463345557043],\n",
       "       [0.091456702393964764419287],\n",
       "       [0.096439593726307643040130],\n",
       "       [0.091456702393964667274773],\n",
       "       [0.057863756235784484516227],\n",
       "       [0.096439593726307337728798],\n",
       "       [0.052880864903441647528748],\n",
       "       [0.096439593726307420995525],\n",
       "       [0.091456702393964889319378],\n",
       "       [0.390097619653462401867472],\n",
       "       [0.096439593726307393239949],\n",
       "       [0.057863756235784470638439],\n",
       "       [0.052880864903441689162111],\n",
       "       [0.091456702393964778297075],\n",
       "       [0.096439593726307420995525],\n",
       "       [0.052880864903441730795475],\n",
       "       [0.096439593726307559773403],\n",
       "       [0.096439593726307393239949],\n",
       "       [0.042915082238756195598395]])"
      ]
     },
     "execution_count": 126,
     "metadata": {},
     "output_type": "execute_result"
    }
   ],
   "source": [
    "gs_wvfunc"
   ]
  },
  {
   "cell_type": "code",
   "execution_count": 154,
   "metadata": {},
   "outputs": [
    {
     "data": {
      "text/plain": [
       "np.float64(-1.1005004234861839e-18)"
      ]
     },
     "execution_count": 154,
     "metadata": {},
     "output_type": "execute_result"
    }
   ],
   "source": [
    "np.inner(gs_wvfunc.flatten(), basis__.project_from(gs_wvfunc__).data)"
   ]
  },
  {
   "cell_type": "code",
   "execution_count": 117,
   "metadata": {},
   "outputs": [
    {
     "data": {
      "text/plain": [
       "array([ 3.372167547500209972000107e-01,  4.355872882286581510014045e-02,\n",
       "        4.355872882286562081111114e-02,  3.857583749052276994584432e-02,\n",
       "        3.857583749052313076832732e-02, -4.982891332342753720752171e-03,\n",
       "        3.359294615818021051412146e-02,  4.163336342344337026588619e-17,\n",
       "       -1.387778780781445675529540e-17, -5.352451148755118376376672e-02,\n",
       "       -4.355872882286574571120141e-02, -2.775557561562891351059079e-17,\n",
       "       -2.775557561562891351059079e-17,  4.982891332342892498630249e-03,\n",
       "       -3.359294615818026602527269e-02, -3.857583749052297117376753e-02,\n",
       "        1.942890293094023945741355e-16, -4.355872882286575958898922e-02,\n",
       "       -5.352451148755126009159966e-02, -4.163336342344337026588619e-17,\n",
       "        7.632783294297951215412468e-17,  4.982891332342746781858267e-03,\n",
       "        4.355872882286563468889895e-02,  3.857583749052311689053951e-02,\n",
       "        4.854162015520826350956085e-02,  5.352451148755128090828137e-02,\n",
       "        5.352451148755126703049356e-02,  3.471825374147071152641786e-01,\n",
       "       -3.857583749052286015146507e-02, -4.982891332342587187298477e-03,\n",
       "       -4.355872882286565550558066e-02,  1.942890293094023945741355e-16,\n",
       "        3.857583749052305444049438e-02,  3.359294615818018969743974e-02,\n",
       "       -4.982891332342948009781480e-03,  1.110223024625156540423632e-16,\n",
       "       -4.854162015520861045425605e-02,  4.982891332342684331813132e-03,\n",
       "        4.982891332342490042783822e-03, -3.857583749052323485173588e-02,\n",
       "       -1.873501354054951661964878e-16,  4.355872882286571101673189e-02,\n",
       "        4.982891332342732904070459e-03,  3.857583749052310995164561e-02,\n",
       "        1.665334536937734810635448e-16,  2.936580259271558412947911e-01,\n",
       "       -4.982891332342712087388747e-03,  1.665334536937734810635448e-16,\n",
       "        4.163336342344337026588619e-17, -3.359294615818014112518242e-02,\n",
       "        4.982891332342712087388747e-03, -3.857583749052297811266143e-02,\n",
       "       -1.387778780781445675529540e-17, -4.982891332342545553935054e-03,\n",
       "        2.936580259271549531163714e-01, -4.163336342344337026588619e-17,\n",
       "       -3.857583749052295035708582e-02, -4.355872882286573183341361e-02,\n",
       "       -4.982891332342642698449708e-03,  0.000000000000000000000000e+00,\n",
       "       -3.372167547500213857780693e-01, -2.936580259271555637390350e-01,\n",
       "       -2.936580259271557302724887e-01, -3.471825374147069487307249e-01])"
      ]
     },
     "execution_count": 117,
     "metadata": {},
     "output_type": "execute_result"
    }
   ],
   "source": [
    "basis.project_from(gs_wvfunc).data - basis__.project_from(gs_wvfunc__).data"
   ]
  },
  {
   "cell_type": "code",
   "execution_count": 96,
   "metadata": {},
   "outputs": [
    {
     "ename": "ValueError",
     "evalue": "px.imshow only accepts 2D single-channel, RGB or RGBA images. An image of shape (64,) was provided. Alternatively, 3- or 4-D single or multichannel datasets can be visualized using the `facet_col` or/and `animation_frame` arguments.",
     "output_type": "error",
     "traceback": [
      "\u001b[0;31m---------------------------------------------------------------------------\u001b[0m",
      "\u001b[0;31mValueError\u001b[0m                                Traceback (most recent call last)",
      "Cell \u001b[0;32mIn[96], line 1\u001b[0m\n\u001b[0;32m----> 1\u001b[0m fig \u001b[38;5;241m=\u001b[39m \u001b[43mpx\u001b[49m\u001b[38;5;241;43m.\u001b[39;49m\u001b[43mimshow\u001b[49m\u001b[43m(\u001b[49m\n\u001b[1;32m      2\u001b[0m \u001b[43m        \u001b[49m\u001b[43mbasis\u001b[49m\u001b[38;5;241;43m.\u001b[39;49m\u001b[43mget_proj\u001b[49m\u001b[43m(\u001b[49m\u001b[43mdtype\u001b[49m\u001b[38;5;241;43m=\u001b[39;49m\u001b[43mnp\u001b[49m\u001b[38;5;241;43m.\u001b[39;49m\u001b[43mfloat64\u001b[49m\u001b[43m)\u001b[49m\u001b[38;5;241;43m.\u001b[39;49m\u001b[43mdata\u001b[49m\u001b[43m,\u001b[49m\n\u001b[1;32m      3\u001b[0m \u001b[43m        \u001b[49m\u001b[43morigin\u001b[49m\u001b[38;5;241;43m=\u001b[39;49m\u001b[38;5;124;43m'\u001b[39;49m\u001b[38;5;124;43mupper\u001b[39;49m\u001b[38;5;124;43m'\u001b[39;49m\u001b[43m,\u001b[49m\u001b[43m    \u001b[49m\u001b[38;5;66;43;03m# or 'lower' as you prefer\u001b[39;49;00m\n\u001b[1;32m      4\u001b[0m \u001b[43m        \u001b[49m\u001b[43mcolor_continuous_scale\u001b[49m\u001b[38;5;241;43m=\u001b[39;49m\u001b[38;5;124;43m'\u001b[39;49m\u001b[38;5;124;43mViridis\u001b[39;49m\u001b[38;5;124;43m'\u001b[39;49m\u001b[43m,\u001b[49m\n\u001b[1;32m      5\u001b[0m \u001b[43m        \u001b[49m\u001b[43mlabels\u001b[49m\u001b[38;5;241;43m=\u001b[39;49m\u001b[38;5;28;43mdict\u001b[39;49m\u001b[43m(\u001b[49m\u001b[43mcolor\u001b[49m\u001b[38;5;241;43m=\u001b[39;49m\u001b[38;5;124;43m\"\u001b[39;49m\u001b[38;5;124;43mValue\u001b[39;49m\u001b[38;5;124;43m\"\u001b[39;49m\u001b[43m)\u001b[49m\u001b[43m,\u001b[49m\n\u001b[1;32m      6\u001b[0m \u001b[43m        \u001b[49m\u001b[43mtitle\u001b[49m\u001b[38;5;241;43m=\u001b[39;49m\u001b[38;5;124;43m\"\u001b[39;49m\u001b[38;5;124;43mCSR Matrix Visualization\u001b[39;49m\u001b[38;5;124;43m\"\u001b[39;49m\n\u001b[1;32m      7\u001b[0m \u001b[43m    \u001b[49m\u001b[43m)\u001b[49m\n\u001b[1;32m      8\u001b[0m fig\u001b[38;5;241m.\u001b[39mshow()\n",
      "File \u001b[0;32m~/miniconda3/envs/QuSpin/lib/python3.10/site-packages/plotly/express/_imshow.py:534\u001b[0m, in \u001b[0;36mimshow\u001b[0;34m(img, zmin, zmax, origin, labels, x, y, animation_frame, facet_col, facet_col_wrap, facet_col_spacing, facet_row_spacing, color_continuous_scale, color_continuous_midpoint, range_color, title, template, width, height, aspect, contrast_rescaling, binary_string, binary_backend, binary_compression_level, binary_format, text_auto)\u001b[0m\n\u001b[1;32m    532\u001b[0m         layout[\u001b[38;5;124m\"\u001b[39m\u001b[38;5;124mxaxis\u001b[39m\u001b[38;5;124m\"\u001b[39m] \u001b[38;5;241m=\u001b[39m \u001b[38;5;28mdict\u001b[39m(autorange\u001b[38;5;241m=\u001b[39m\u001b[38;5;124m\"\u001b[39m\u001b[38;5;124mreversed\u001b[39m\u001b[38;5;124m\"\u001b[39m)\n\u001b[1;32m    533\u001b[0m \u001b[38;5;28;01melse\u001b[39;00m:\n\u001b[0;32m--> 534\u001b[0m     \u001b[38;5;28;01mraise\u001b[39;00m \u001b[38;5;167;01mValueError\u001b[39;00m(\n\u001b[1;32m    535\u001b[0m         \u001b[38;5;124m\"\u001b[39m\u001b[38;5;124mpx.imshow only accepts 2D single-channel, RGB or RGBA images. \u001b[39m\u001b[38;5;124m\"\u001b[39m\n\u001b[1;32m    536\u001b[0m         \u001b[38;5;124m\"\u001b[39m\u001b[38;5;124mAn image of shape \u001b[39m\u001b[38;5;132;01m%s\u001b[39;00m\u001b[38;5;124m was provided. \u001b[39m\u001b[38;5;124m\"\u001b[39m\n\u001b[1;32m    537\u001b[0m         \u001b[38;5;124m\"\u001b[39m\u001b[38;5;124mAlternatively, 3- or 4-D single or multichannel datasets can be \u001b[39m\u001b[38;5;124m\"\u001b[39m\n\u001b[1;32m    538\u001b[0m         \u001b[38;5;124m\"\u001b[39m\u001b[38;5;124mvisualized using the `facet_col` or/and `animation_frame` arguments.\u001b[39m\u001b[38;5;124m\"\u001b[39m\n\u001b[1;32m    539\u001b[0m         \u001b[38;5;241m%\u001b[39m \u001b[38;5;28mstr\u001b[39m(img\u001b[38;5;241m.\u001b[39mshape)\n\u001b[1;32m    540\u001b[0m     )\n\u001b[1;32m    542\u001b[0m \u001b[38;5;66;03m# Now build figure\u001b[39;00m\n\u001b[1;32m    543\u001b[0m col_labels \u001b[38;5;241m=\u001b[39m []\n",
      "\u001b[0;31mValueError\u001b[0m: px.imshow only accepts 2D single-channel, RGB or RGBA images. An image of shape (64,) was provided. Alternatively, 3- or 4-D single or multichannel datasets can be visualized using the `facet_col` or/and `animation_frame` arguments."
     ]
    }
   ],
   "source": [
    "fig = px.imshow(\n",
    "        basis.get_proj(dtype=np.float64).data,\n",
    "        origin='upper',    # or 'lower' as you prefer\n",
    "        color_continuous_scale='Viridis',\n",
    "        labels=dict(color=\"Value\"),\n",
    "        title=\"CSR Matrix Visualization\"\n",
    "    )\n",
    "fig.show()"
   ]
  },
  {
   "cell_type": "code",
   "execution_count": 94,
   "metadata": {},
   "outputs": [
    {
     "data": {
      "text/plain": [
       "{'_shape': (64, 64),\n",
       " 'maxprint': 50,\n",
       " 'indices': array([ 0,  1,  2,  3,  4,  5,  6,  7,  8,  9, 10, 11, 12, 13, 14, 15, 16,\n",
       "        17, 18, 19, 20, 21, 22, 23, 24, 25, 26, 27, 28, 29, 30, 31, 32, 33,\n",
       "        34, 35, 36, 37, 38, 39, 40, 41, 42, 43, 44, 45, 46, 47, 48, 49, 50,\n",
       "        51, 52, 53, 54, 55, 56, 57, 58, 59, 60, 61, 62, 63], dtype=int32),\n",
       " 'indptr': array([ 0,  1,  2,  3,  4,  5,  6,  7,  8,  9, 10, 11, 12, 13, 14, 15, 16,\n",
       "        17, 18, 19, 20, 21, 22, 23, 24, 25, 26, 27, 28, 29, 30, 31, 32, 33,\n",
       "        34, 35, 36, 37, 38, 39, 40, 41, 42, 43, 44, 45, 46, 47, 48, 49, 50,\n",
       "        51, 52, 53, 54, 55, 56, 57, 58, 59, 60, 61, 62, 63, 64],\n",
       "       dtype=int32),\n",
       " 'data': array([1.000000000000000000000000, 1.000000000000000000000000,\n",
       "        1.000000000000000000000000, 1.000000000000000000000000,\n",
       "        1.000000000000000000000000, 1.000000000000000000000000,\n",
       "        1.000000000000000000000000, 1.000000000000000000000000,\n",
       "        1.000000000000000000000000, 1.000000000000000000000000,\n",
       "        1.000000000000000000000000, 1.000000000000000000000000,\n",
       "        1.000000000000000000000000, 1.000000000000000000000000,\n",
       "        1.000000000000000000000000, 1.000000000000000000000000,\n",
       "        1.000000000000000000000000, 1.000000000000000000000000,\n",
       "        1.000000000000000000000000, 1.000000000000000000000000,\n",
       "        1.000000000000000000000000, 1.000000000000000000000000,\n",
       "        1.000000000000000000000000, 1.000000000000000000000000,\n",
       "        1.000000000000000000000000, 1.000000000000000000000000,\n",
       "        1.000000000000000000000000, 1.000000000000000000000000,\n",
       "        1.000000000000000000000000, 1.000000000000000000000000,\n",
       "        1.000000000000000000000000, 1.000000000000000000000000,\n",
       "        1.000000000000000000000000, 1.000000000000000000000000,\n",
       "        1.000000000000000000000000, 1.000000000000000000000000,\n",
       "        1.000000000000000000000000, 1.000000000000000000000000,\n",
       "        1.000000000000000000000000, 1.000000000000000000000000,\n",
       "        1.000000000000000000000000, 1.000000000000000000000000,\n",
       "        1.000000000000000000000000, 1.000000000000000000000000,\n",
       "        1.000000000000000000000000, 1.000000000000000000000000,\n",
       "        1.000000000000000000000000, 1.000000000000000000000000,\n",
       "        1.000000000000000000000000, 1.000000000000000000000000,\n",
       "        1.000000000000000000000000, 1.000000000000000000000000,\n",
       "        1.000000000000000000000000, 1.000000000000000000000000,\n",
       "        1.000000000000000000000000, 1.000000000000000000000000,\n",
       "        1.000000000000000000000000, 1.000000000000000000000000,\n",
       "        1.000000000000000000000000, 1.000000000000000000000000,\n",
       "        1.000000000000000000000000, 1.000000000000000000000000,\n",
       "        1.000000000000000000000000, 1.000000000000000000000000])}"
      ]
     },
     "execution_count": 94,
     "metadata": {},
     "output_type": "execute_result"
    }
   ],
   "source": [
    "vars(basis.get_proj(dtype=np.float64))"
   ]
  },
  {
   "cell_type": "code",
   "execution_count": 79,
   "metadata": {},
   "outputs": [
    {
     "data": {
      "text/plain": [
       "{'_shape': (64, 16),\n",
       " 'maxprint': 50,\n",
       " 'indices': array([ 0, 27, 45, 54,  1, 26, 44, 55,  2, 25, 47, 52,  3, 24, 46, 53,  4,\n",
       "        31, 41, 50,  5, 30, 40, 51,  6, 29, 43, 48,  7, 28, 42, 49,  8, 19,\n",
       "        37, 62,  9, 18, 36, 63, 10, 17, 39, 60, 11, 16, 38, 61, 12, 23, 33,\n",
       "        58, 13, 22, 32, 59, 14, 21, 35, 56, 15, 20, 34, 57], dtype=int32),\n",
       " 'indptr': array([ 0,  4,  8, 12, 16, 20, 24, 28, 32, 36, 40, 44, 48, 52, 56, 60, 64],\n",
       "       dtype=int32),\n",
       " 'data': array([0.500000000000000000000000, 0.500000000000000000000000,\n",
       "        0.500000000000000000000000, 0.500000000000000000000000,\n",
       "        0.500000000000000000000000, 0.500000000000000000000000,\n",
       "        0.500000000000000000000000, 0.500000000000000000000000,\n",
       "        0.500000000000000000000000, 0.500000000000000000000000,\n",
       "        0.500000000000000000000000, 0.500000000000000000000000,\n",
       "        0.500000000000000000000000, 0.500000000000000000000000,\n",
       "        0.500000000000000000000000, 0.500000000000000000000000,\n",
       "        0.500000000000000000000000, 0.500000000000000000000000,\n",
       "        0.500000000000000000000000, 0.500000000000000000000000,\n",
       "        0.500000000000000000000000, 0.500000000000000000000000,\n",
       "        0.500000000000000000000000, 0.500000000000000000000000,\n",
       "        0.500000000000000000000000, 0.500000000000000000000000,\n",
       "        0.500000000000000000000000, 0.500000000000000000000000,\n",
       "        0.500000000000000000000000, 0.500000000000000000000000,\n",
       "        0.500000000000000000000000, 0.500000000000000000000000,\n",
       "        0.500000000000000000000000, 0.500000000000000000000000,\n",
       "        0.500000000000000000000000, 0.500000000000000000000000,\n",
       "        0.500000000000000000000000, 0.500000000000000000000000,\n",
       "        0.500000000000000000000000, 0.500000000000000000000000,\n",
       "        0.500000000000000000000000, 0.500000000000000000000000,\n",
       "        0.500000000000000000000000, 0.500000000000000000000000,\n",
       "        0.500000000000000000000000, 0.500000000000000000000000,\n",
       "        0.500000000000000000000000, 0.500000000000000000000000,\n",
       "        0.500000000000000000000000, 0.500000000000000000000000,\n",
       "        0.500000000000000000000000, 0.500000000000000000000000,\n",
       "        0.500000000000000000000000, 0.500000000000000000000000,\n",
       "        0.500000000000000000000000, 0.500000000000000000000000,\n",
       "        0.500000000000000000000000, 0.500000000000000000000000,\n",
       "        0.500000000000000000000000, 0.500000000000000000000000,\n",
       "        0.500000000000000000000000, 0.500000000000000000000000,\n",
       "        0.500000000000000000000000, 0.500000000000000000000000])}"
      ]
     },
     "execution_count": 79,
     "metadata": {},
     "output_type": "execute_result"
    }
   ],
   "source": [
    "vars(basis__.get_proj(dtype=np.float64))"
   ]
  },
  {
   "cell_type": "code",
   "execution_count": 74,
   "metadata": {},
   "outputs": [
    {
     "ename": "ValueError",
     "evalue": "px.imshow only accepts 2D single-channel, RGB or RGBA images. An image of shape (64,) was provided. Alternatively, 3- or 4-D single or multichannel datasets can be visualized using the `facet_col` or/and `animation_frame` arguments.",
     "output_type": "error",
     "traceback": [
      "\u001b[0;31m---------------------------------------------------------------------------\u001b[0m",
      "\u001b[0;31mValueError\u001b[0m                                Traceback (most recent call last)",
      "Cell \u001b[0;32mIn[74], line 4\u001b[0m\n\u001b[1;32m      1\u001b[0m \u001b[38;5;66;03m# vars(basis__.get_proj(dtype=np.float64))\u001b[39;00m\n\u001b[1;32m      2\u001b[0m basis__\u001b[38;5;241m.\u001b[39mget_proj(dtype\u001b[38;5;241m=\u001b[39mnp\u001b[38;5;241m.\u001b[39mfloat64)\u001b[38;5;241m.\u001b[39mdata\n\u001b[0;32m----> 4\u001b[0m \u001b[43mvisualize_mat\u001b[49m\u001b[43m(\u001b[49m\u001b[43mbasis__\u001b[49m\u001b[38;5;241;43m.\u001b[39;49m\u001b[43mget_proj\u001b[49m\u001b[43m(\u001b[49m\u001b[43mdtype\u001b[49m\u001b[38;5;241;43m=\u001b[39;49m\u001b[43mnp\u001b[49m\u001b[38;5;241;43m.\u001b[39;49m\u001b[43mfloat64\u001b[49m\u001b[43m)\u001b[49m\u001b[38;5;241;43m.\u001b[39;49m\u001b[43mdata\u001b[49m\u001b[43m)\u001b[49m\n",
      "Cell \u001b[0;32mIn[71], line 32\u001b[0m, in \u001b[0;36mvisualize_mat\u001b[0;34m(mat)\u001b[0m\n\u001b[1;32m     31\u001b[0m \u001b[38;5;28;01mdef\u001b[39;00m \u001b[38;5;21mvisualize_mat\u001b[39m(mat):\n\u001b[0;32m---> 32\u001b[0m     fig \u001b[38;5;241m=\u001b[39m \u001b[43mpx\u001b[49m\u001b[38;5;241;43m.\u001b[39;49m\u001b[43mimshow\u001b[49m\u001b[43m(\u001b[49m\u001b[43mmat\u001b[49m\u001b[43m,\u001b[49m\u001b[43m \u001b[49m\u001b[43mcolor_continuous_scale\u001b[49m\u001b[38;5;241;43m=\u001b[39;49m\u001b[38;5;124;43m'\u001b[39;49m\u001b[38;5;124;43mViridis\u001b[39;49m\u001b[38;5;124;43m'\u001b[39;49m\u001b[43m)\u001b[49m\n\u001b[1;32m     33\u001b[0m     fig\u001b[38;5;241m.\u001b[39mshow()\n",
      "File \u001b[0;32m~/miniconda3/envs/QuSpin/lib/python3.10/site-packages/plotly/express/_imshow.py:534\u001b[0m, in \u001b[0;36mimshow\u001b[0;34m(img, zmin, zmax, origin, labels, x, y, animation_frame, facet_col, facet_col_wrap, facet_col_spacing, facet_row_spacing, color_continuous_scale, color_continuous_midpoint, range_color, title, template, width, height, aspect, contrast_rescaling, binary_string, binary_backend, binary_compression_level, binary_format, text_auto)\u001b[0m\n\u001b[1;32m    532\u001b[0m         layout[\u001b[38;5;124m\"\u001b[39m\u001b[38;5;124mxaxis\u001b[39m\u001b[38;5;124m\"\u001b[39m] \u001b[38;5;241m=\u001b[39m \u001b[38;5;28mdict\u001b[39m(autorange\u001b[38;5;241m=\u001b[39m\u001b[38;5;124m\"\u001b[39m\u001b[38;5;124mreversed\u001b[39m\u001b[38;5;124m\"\u001b[39m)\n\u001b[1;32m    533\u001b[0m \u001b[38;5;28;01melse\u001b[39;00m:\n\u001b[0;32m--> 534\u001b[0m     \u001b[38;5;28;01mraise\u001b[39;00m \u001b[38;5;167;01mValueError\u001b[39;00m(\n\u001b[1;32m    535\u001b[0m         \u001b[38;5;124m\"\u001b[39m\u001b[38;5;124mpx.imshow only accepts 2D single-channel, RGB or RGBA images. \u001b[39m\u001b[38;5;124m\"\u001b[39m\n\u001b[1;32m    536\u001b[0m         \u001b[38;5;124m\"\u001b[39m\u001b[38;5;124mAn image of shape \u001b[39m\u001b[38;5;132;01m%s\u001b[39;00m\u001b[38;5;124m was provided. \u001b[39m\u001b[38;5;124m\"\u001b[39m\n\u001b[1;32m    537\u001b[0m         \u001b[38;5;124m\"\u001b[39m\u001b[38;5;124mAlternatively, 3- or 4-D single or multichannel datasets can be \u001b[39m\u001b[38;5;124m\"\u001b[39m\n\u001b[1;32m    538\u001b[0m         \u001b[38;5;124m\"\u001b[39m\u001b[38;5;124mvisualized using the `facet_col` or/and `animation_frame` arguments.\u001b[39m\u001b[38;5;124m\"\u001b[39m\n\u001b[1;32m    539\u001b[0m         \u001b[38;5;241m%\u001b[39m \u001b[38;5;28mstr\u001b[39m(img\u001b[38;5;241m.\u001b[39mshape)\n\u001b[1;32m    540\u001b[0m     )\n\u001b[1;32m    542\u001b[0m \u001b[38;5;66;03m# Now build figure\u001b[39;00m\n\u001b[1;32m    543\u001b[0m col_labels \u001b[38;5;241m=\u001b[39m []\n",
      "\u001b[0;31mValueError\u001b[0m: px.imshow only accepts 2D single-channel, RGB or RGBA images. An image of shape (64,) was provided. Alternatively, 3- or 4-D single or multichannel datasets can be visualized using the `facet_col` or/and `animation_frame` arguments."
     ]
    }
   ],
   "source": [
    "# vars(basis__.get_proj(dtype=np.float64))\n",
    "basis__.get_proj(dtype=np.float64).data\n",
    "\n",
    "visualize_mat(basis__.get_proj(dtype=np.float64).data)"
   ]
  },
  {
   "cell_type": "code",
   "execution_count": 54,
   "metadata": {},
   "outputs": [
    {
     "ename": "IndexError",
     "evalue": "index 16 is out of bounds for axis 1 with size 16",
     "output_type": "error",
     "traceback": [
      "\u001b[0;31m---------------------------------------------------------------------------\u001b[0m",
      "\u001b[0;31mIndexError\u001b[0m                                Traceback (most recent call last)",
      "Cell \u001b[0;32mIn[54], line 4\u001b[0m\n\u001b[1;32m      1\u001b[0m rho_full \u001b[38;5;241m=\u001b[39m gs_wvfunc__ \u001b[38;5;241m@\u001b[39m gs_wvfunc__\u001b[38;5;241m.\u001b[39mconjugate()\u001b[38;5;241m.\u001b[39mT\n\u001b[1;32m      2\u001b[0m rho_full \u001b[38;5;241m/\u001b[39m\u001b[38;5;241m=\u001b[39m np\u001b[38;5;241m.\u001b[39mtrace(rho_full)  \u001b[38;5;66;03m# normalize trace to 1\u001b[39;00m\n\u001b[0;32m----> 4\u001b[0m \u001b[43mpartial_trace\u001b[49m\u001b[43m(\u001b[49m\u001b[43mrho_full\u001b[49m\u001b[43m,\u001b[49m\u001b[43m \u001b[49m\u001b[43mbasis\u001b[49m\u001b[43m,\u001b[49m\u001b[43m \u001b[49m\u001b[43m[\u001b[49m\u001b[38;5;241;43m0\u001b[39;49m\u001b[43m]\u001b[49m\u001b[43m,\u001b[49m\u001b[43m \u001b[49m\u001b[43mN\u001b[49m\u001b[43m)\u001b[49m\n",
      "Cell \u001b[0;32mIn[51], line 36\u001b[0m, in \u001b[0;36mpartial_trace\u001b[0;34m(rho, basis, sub_sys_A, N, sps)\u001b[0m\n\u001b[1;32m     34\u001b[0m     \u001b[38;5;28;01mfor\u001b[39;00m j \u001b[38;5;129;01min\u001b[39;00m \u001b[38;5;28mrange\u001b[39m(relevant_hilbert_space_armlength):\n\u001b[1;32m     35\u001b[0m         jA, jB \u001b[38;5;241m=\u001b[39m full_map[j]\n\u001b[0;32m---> 36\u001b[0m         rho_v[iA, iB, jA, jB] \u001b[38;5;241m=\u001b[39m \u001b[43mrho\u001b[49m\u001b[43m[\u001b[49m\u001b[43mi\u001b[49m\u001b[43m,\u001b[49m\u001b[43m \u001b[49m\u001b[43mj\u001b[49m\u001b[43m]\u001b[49m\n\u001b[1;32m     38\u001b[0m \u001b[38;5;66;03m# Partial trace over B => sum over iB = jB\u001b[39;00m\n\u001b[1;32m     39\u001b[0m \u001b[38;5;66;03m# Instead of 'iB jA iB -> iA jA', do a valid einsum:\u001b[39;00m\n\u001b[1;32m     40\u001b[0m rho_A \u001b[38;5;241m=\u001b[39m np\u001b[38;5;241m.\u001b[39meinsum(\u001b[38;5;124m'\u001b[39m\u001b[38;5;124m...jlkl->...jk\u001b[39m\u001b[38;5;124m'\u001b[39m, rho_v)\n",
      "\u001b[0;31mIndexError\u001b[0m: index 16 is out of bounds for axis 1 with size 16"
     ]
    }
   ],
   "source": [
    "\n",
    "rho_full = gs_wvfunc__ @ gs_wvfunc__.conjugate().T\n",
    "rho_full /= np.trace(rho_full)  # normalize trace to 1\n",
    "\n",
    "partial_trace(rho_full, basis, [0], N)"
   ]
  },
  {
   "cell_type": "code",
   "execution_count": null,
   "metadata": {},
   "outputs": [],
   "source": [
    "\n",
    "# Build a map from 0..2^N-1 -> (iA, iB)\n",
    "def get_bits(state_index, sites):\n",
    "    val = 0\n",
    "    for s in sites:\n",
    "        val = (val << 1) | ((state_index >> s) & 1)\n",
    "    return val\n",
    "\n",
    "\n",
    "\n",
    "def partial_trace(rho, basis, sub_sys_A, N, sps=2):\n",
    "    \"\"\"Trace out the complement of sub_sys_A from an N-qubit density matrix rho.\"\"\"\n",
    "\n",
    "    # Sort sub_sys_A for consistency\n",
    "    sub_sys_A = sorted(sub_sys_A)\n",
    "    sub_sys_B = [site for site in range(N) if site not in sub_sys_A]\n",
    "\n",
    "    # Dimensions\n",
    "    L_A = len(sub_sys_A)\n",
    "    L_B = N - L_A\n",
    "    Ns_A = sps**L_A\n",
    "    Ns_B = sps**L_B\n",
    "\n",
    "    full_map = []\n",
    "    for idx in range(sps**N):\n",
    "        iA = get_bits(idx, sub_sys_A)\n",
    "        iB = get_bits(idx, sub_sys_B)\n",
    "        full_map.append((iA, iB))\n",
    "\n",
    "    # Rearrange into 4D: rho_v[iA, iB, jA, jB]\n",
    "    rho_v = np.zeros((Ns_A, Ns_B, Ns_A, Ns_B), dtype=rho.dtype)\n",
    "    relevant_hilbert_space_armlength = len(basis._basis)\n",
    "    for i in range(relevant_hilbert_space_armlength):\n",
    "        iA, iB = full_map[i]\n",
    "        for j in range(relevant_hilbert_space_armlength):\n",
    "            jA, jB = full_map[j]\n",
    "            rho_v[iA, iB, jA, jB] = rho[i, j]\n",
    "\n",
    "    # Partial trace over B => sum over iB = jB\n",
    "    # Instead of 'iB jA iB -> iA jA', do a valid einsum:\n",
    "    rho_A = np.einsum('...jlkl->...jk', rho_v)\n",
    "    # i: iA, j: iB, k: jA, l: jB => summation over j,l\n",
    "\n",
    "    return rho_A"
   ]
  },
  {
   "cell_type": "code",
   "execution_count": 3,
   "metadata": {},
   "outputs": [],
   "source": [
    "full__density_matrix_without_restriction = np.outer(gs_wvfunc, gs_wvfunc.conj())\n",
    "full__density_matrix_with_restriction = np.outer(gs_wvfunc__, gs_wvfunc__.conj())"
   ]
  },
  {
   "cell_type": "code",
   "execution_count": 4,
   "metadata": {},
   "outputs": [
    {
     "data": {
      "text/plain": [
       "[0, 1, 2, 3, 4, 5, 6, 7]"
      ]
     },
     "execution_count": 4,
     "metadata": {},
     "output_type": "execute_result"
    }
   ],
   "source": [
    "RDM_size = 2**3\n",
    "[i for i in range(RDM_size)]"
   ]
  },
  {
   "cell_type": "code",
   "execution_count": 5,
   "metadata": {},
   "outputs": [],
   "source": [
    "import scipy"
   ]
  },
  {
   "cell_type": "code",
   "execution_count": 6,
   "metadata": {},
   "outputs": [
    {
     "data": {
      "text/plain": [
       "array([-6.467550949040908605061173e-17, -2.728691996230796812169813e-18,\n",
       "       -1.993304107891276868714892e-18, -1.595317803738934443311412e-18,\n",
       "        1.998675198727921669855654e-19,  2.106716282784090948925479e-19,\n",
       "        2.356868568307116921945112e-19,  5.593498338233368888126345e-19,\n",
       "        7.843394363373172912103876e-19,  1.156196592181582680704363e-18,\n",
       "        1.397928407486514567262551e-18,  1.609905024224743067210536e-18,\n",
       "        2.458536518811410521241132e-18,  3.211179367801860098102363e-18,\n",
       "        4.440892098500626161694527e-16,  9.999999999999997779553951e-01])"
      ]
     },
     "execution_count": 6,
     "metadata": {},
     "output_type": "execute_result"
    }
   ],
   "source": [
    "eig_e_s__, eig_v_s__ = scipy.linalg.eigh(full__density_matrix_with_restriction)\n",
    "eig_e_s__"
   ]
  },
  {
   "cell_type": "code",
   "execution_count": 7,
   "metadata": {},
   "outputs": [],
   "source": [
    "eig_e_s, eig_v_s = scipy.linalg.eigh(unresrticted_basis.ent_entropy(state=gs_wvfunc, sub_sys_A=[1, 2, 3, 4], return_rdm=\"A\")[\"rdm_A\"])"
   ]
  },
  {
   "cell_type": "code",
   "execution_count": 8,
   "metadata": {},
   "outputs": [
    {
     "data": {
      "text/plain": [
       "array([-8.218396549849470271354966e-17, -3.925704952136639281909551e-18,\n",
       "       -3.660184004075554431467180e-18, -3.453855394816232733568250e-18,\n",
       "        5.808218017597360673028819e-19,  1.071112553120592669573683e-18,\n",
       "        1.640898196849078983981166e-18,  2.002316798278275878811483e-18,\n",
       "        2.860229375838790746171716e-18,  5.706925154211437183118789e-18,\n",
       "        1.075508955505050766083129e-17,  2.733915173678864458919924e-17,\n",
       "        9.295712253074300823740828e-02,  9.523809523809524668624960e-02,\n",
       "        9.523809523809541321970329e-02,  7.165666869930649163222824e-01])"
      ]
     },
     "execution_count": 8,
     "metadata": {},
     "output_type": "execute_result"
    }
   ],
   "source": [
    "eig_e_s"
   ]
  },
  {
   "cell_type": "code",
   "execution_count": 9,
   "metadata": {},
   "outputs": [
    {
     "name": "stdout",
     "output_type": "stream",
     "text": [
      "logm result may be inaccurate, approximate err = 3.2991422044077362e-09\n"
     ]
    },
    {
     "name": "stderr",
     "output_type": "stream",
     "text": [
      "/home/naturalis/miniconda3/envs/QuSpin/lib/python3.10/site-packages/scipy/linalg/_matfuncs.py:200: LogmExactlySingularWarning: The logm input matrix is exactly singular.\n",
      "  F = scipy.linalg._matfuncs_inv_ssq._logm(A)\n"
     ]
    },
    {
     "data": {
      "text/plain": [
       "np.float64(4.499753539720598e-12)"
      ]
     },
     "execution_count": 9,
     "metadata": {},
     "output_type": "execute_result"
    }
   ],
   "source": [
    "_rdm = full__density_matrix_with_restriction\n",
    "entropy__ = - np.real(np.trace(_rdm @ scipy.linalg.logm(_rdm)))\n",
    "entropy__"
   ]
  },
  {
   "cell_type": "code",
   "execution_count": 42,
   "metadata": {},
   "outputs": [
    {
     "data": {
      "text/plain": [
       "np.float64(1.580980067242042e-14)"
      ]
     },
     "execution_count": 42,
     "metadata": {},
     "output_type": "execute_result"
    }
   ],
   "source": [
    "eigEs, _ = scipy.linalg.eigh(full__density_matrix_without_restriction)\n",
    "eigEs = eigEs[eigEs > np.finfo(float).eps]\n",
    "entropy = 0\n",
    "for i in range(len(eigEs)):\n",
    "    entropy += -eigEs[i] * np.log(eigEs[i])\n",
    "entropy"
   ]
  },
  {
   "cell_type": "code",
   "execution_count": 14,
   "metadata": {},
   "outputs": [
    {
     "data": {
      "text/plain": [
       "np.float64(0.9075317013992835)"
      ]
     },
     "execution_count": 14,
     "metadata": {},
     "output_type": "execute_result"
    }
   ],
   "source": [
    "eigEs, _ = scipy.linalg.eigh(unresrticted_basis.ent_entropy(state=gs_wvfunc, sub_sys_A=[0, 1, 2, 3], return_rdm=\"A\")[\"rdm_A\"])\n",
    "eigEs = eigEs[eigEs > np.finfo(float).eps]\n",
    "entropy = 0\n",
    "for i in range(len(eigEs)):\n",
    "    entropy += -eigEs[i] * np.log(eigEs[i])\n",
    "entropy"
   ]
  },
  {
   "cell_type": "code",
   "execution_count": 20,
   "metadata": {},
   "outputs": [
    {
     "data": {
      "text/plain": [
       "np.float64(0.9075317013992824)"
      ]
     },
     "execution_count": 20,
     "metadata": {},
     "output_type": "execute_result"
    }
   ],
   "source": [
    "eigEs, _ = scipy.linalg.eigh(D_restricted_basis.ent_entropy(state=gs_wvfunc__, sub_sys_A=[0, 1, 2, 3], return_rdm=\"B\")[\"rdm_B\"])\n",
    "eigEs = eigEs[eigEs > np.finfo(float).eps]\n",
    "entropy = 0\n",
    "for i in range(len(eigEs)):\n",
    "    entropy += -eigEs[i] * np.log(eigEs[i])\n",
    "entropy"
   ]
  },
  {
   "cell_type": "code",
   "execution_count": 33,
   "metadata": {},
   "outputs": [
    {
     "data": {
      "text/plain": [
       "np.float64(0.4835954039610536)"
      ]
     },
     "execution_count": 33,
     "metadata": {},
     "output_type": "execute_result"
    }
   ],
   "source": [
    "eigEs, _ = scipy.linalg.eigh(unresrticted_basis.ent_entropy(state=gs_wvfunc, sub_sys_A=[3], return_rdm=\"A\")[\"rdm_A\"])\n",
    "eigEs = eigEs[eigEs > np.finfo(float).eps]\n",
    "entropy = 0\n",
    "for i in range(len(eigEs)):\n",
    "    entropy += -eigEs[i] * np.log(eigEs[i])\n",
    "entropy"
   ]
  },
  {
   "cell_type": "code",
   "execution_count": 74,
   "metadata": {},
   "outputs": [
    {
     "name": "stdout",
     "output_type": "stream",
     "text": [
      "For this test, only the (D_i) sectors are used without choosing any momentum sector.\n",
      "\n",
      "Exact diagonalization - No restriction on the Hilbert space\n",
      "Ground state energy of 21 spins = -25.246267573926932\n",
      "sector size = 2097152\n",
      "took 34.760095 seconds\n",
      "\n",
      "Exact diagonalization with only {D1, D2, D3} symmetries\n",
      "Ground state energy of 21 spins = -25.246267573926914\n",
      "sector size = 24980\n",
      "took 1.415501 seconds\n",
      "\n",
      "Error in ground state energy = 1.7763568394002505e-14\n",
      "With dimensional reduction : (prev_sector_dim / reduced_sector_dim)  = 83.95324259407526 fold reduction in the Hilbert space\n"
     ]
    }
   ],
   "source": [
    "N = 21\n",
    "h_VAL = 1.0\n",
    "st__0 = T.time()\n",
    "\n",
    "print('For this test, only the (D_i) sectors are used without choosing any momentum sector.')\n",
    "gs_energy, basis, gs_wvfunc = ThreeSpinIsing_GS__no_symm_(N, h_VAL)\n",
    "print('\\nExact diagonalization - No restriction on the Hilbert space')\n",
    "print(f'Ground state energy of {N} spins = {gs_energy}')\n",
    "print(f'sector size = {len(basis._basis)}')\n",
    "print(f'took {T.time()-st__0:.6f} seconds\\n')\n",
    "st__0 = T.time()\n",
    "\n",
    "print('Exact diagonalization with only {D1, D2, D3} symmetries')\n",
    "gs_energy__, basis__, gs_wvfunc__ = ThreeSpinIsing_GS__sublattice_symm_3(N, h_VAL)\n",
    "print(f'Ground state energy of {N} spins = {gs_energy__}')\n",
    "print(f'sector size = {len(basis__._basis)}')\n",
    "print(f'took {T.time()-st__0:.6f} seconds\\n')\n",
    "\n",
    "print(f'Error in ground state energy = {abs(gs_energy__-gs_energy)}')\n",
    "print(f'With dimensional reduction : (prev_sector_dim / reduced_sector_dim)  = {len(basis._basis)/len(basis__._basis)} fold reduction in the Hilbert space')"
   ]
  },
  {
   "cell_type": "code",
   "execution_count": 139,
   "metadata": {},
   "outputs": [
    {
     "data": {
      "text/plain": [
       "array([[0.500000000000000333066907, 0.311804782231162147532189],\n",
       "       [0.311804782231162203043340, 0.500000000000000444089210]])"
      ]
     },
     "execution_count": 139,
     "metadata": {},
     "output_type": "execute_result"
    }
   ],
   "source": [
    "def RDM(size, h, RDM_size, fix_GS_block = True):\n",
    "    if RDM_size < size+1:\n",
    "        if fix_GS_block:\n",
    "            _, basis_ising, ground_state = ThreeSpinIsing_GS__sublattice_symm_3(size, h)\n",
    "        else:\n",
    "            _, basis_ising, ground_state = ThreeSpinIsing_GS__no_symm_(size, h)\n",
    "        rdm_ = basis_ising.ent_entropy(state=ground_state, sub_sys_A=[i for i in range(RDM_size)], return_rdm=\"A\")[\"rdm_A\"]\n",
    "        return rdm_\n",
    "    else:\n",
    "        raise ValueError('RDM_size > system_size : size of reduced density matrix must be smaller than system size')\n",
    "\n",
    "def Sigma_h__nn_3(size, h, RDM_size, fix_GS_block, tolerance=1e-9):\n",
    "    _rdm = RDM(size, h, RDM_size, fix_GS_block)\n",
    "    rdm__plus = RDM(size, h+tolerance, RDM_size, fix_GS_block)\n",
    "    log__rdm = scipy.linalg.logm(_rdm)  \n",
    "    log_rdm__plus = scipy.linalg.logm(rdm__plus)\n",
    "    d_h__log_rdm = (1/tolerance)*(log_rdm__plus - log__rdm)\n",
    "    return np.trace(_rdm @ d_h__log_rdm @ d_h__log_rdm).real\n",
    "\n",
    "RDM(6, 1.0, 1, True)"
   ]
  },
  {
   "cell_type": "code",
   "execution_count": 171,
   "metadata": {},
   "outputs": [
    {
     "name": "stdout",
     "output_type": "stream",
     "text": [
      "[0.116091164866429785718083 0.133605985058307563662083\n",
      " 0.306985729685261832244692 0.443317120390000152241328]\n"
     ]
    },
    {
     "data": {
      "application/vnd.plotly.v1+json": {
       "config": {
        "plotlyServerURL": "https://plot.ly"
       },
       "data": [
        {
         "coloraxis": "coloraxis",
         "hovertemplate": "x: %{x}<br>y: %{y}<br>color: %{z}<extra></extra>",
         "name": "0",
         "type": "heatmap",
         "xaxis": "x",
         "yaxis": "y",
         "z": [
          [
           0.13360598505830756,
           -4.8054781392084796e-17,
           2.997123520729268e-19,
           -7.543780287832766e-17
          ],
          [
           -4.8054781392084783e-17,
           0.4433171203900004,
           -2.7688605807006476e-17,
           2.0057633636631884e-16
          ],
          [
           2.997123520729268e-19,
           -2.7688605807006476e-17,
           0.11609116486642973,
           7.804337082528495e-18
          ],
          [
           -7.543780287832766e-17,
           2.0057633636631884e-16,
           7.804337082528495e-18,
           0.306985729685262
          ]
         ]
        }
       ],
       "layout": {
        "coloraxis": {
         "colorscale": [
          [
           0,
           "#440154"
          ],
          [
           0.1111111111111111,
           "#482878"
          ],
          [
           0.2222222222222222,
           "#3e4989"
          ],
          [
           0.3333333333333333,
           "#31688e"
          ],
          [
           0.4444444444444444,
           "#26828e"
          ],
          [
           0.5555555555555556,
           "#1f9e89"
          ],
          [
           0.6666666666666666,
           "#35b779"
          ],
          [
           0.7777777777777778,
           "#6ece58"
          ],
          [
           0.8888888888888888,
           "#b5de2b"
          ],
          [
           1,
           "#fde725"
          ]
         ]
        },
        "margin": {
         "t": 60
        },
        "template": {
         "data": {
          "bar": [
           {
            "error_x": {
             "color": "#2a3f5f"
            },
            "error_y": {
             "color": "#2a3f5f"
            },
            "marker": {
             "line": {
              "color": "#E5ECF6",
              "width": 0.5
             },
             "pattern": {
              "fillmode": "overlay",
              "size": 10,
              "solidity": 0.2
             }
            },
            "type": "bar"
           }
          ],
          "barpolar": [
           {
            "marker": {
             "line": {
              "color": "#E5ECF6",
              "width": 0.5
             },
             "pattern": {
              "fillmode": "overlay",
              "size": 10,
              "solidity": 0.2
             }
            },
            "type": "barpolar"
           }
          ],
          "carpet": [
           {
            "aaxis": {
             "endlinecolor": "#2a3f5f",
             "gridcolor": "white",
             "linecolor": "white",
             "minorgridcolor": "white",
             "startlinecolor": "#2a3f5f"
            },
            "baxis": {
             "endlinecolor": "#2a3f5f",
             "gridcolor": "white",
             "linecolor": "white",
             "minorgridcolor": "white",
             "startlinecolor": "#2a3f5f"
            },
            "type": "carpet"
           }
          ],
          "choropleth": [
           {
            "colorbar": {
             "outlinewidth": 0,
             "ticks": ""
            },
            "type": "choropleth"
           }
          ],
          "contour": [
           {
            "colorbar": {
             "outlinewidth": 0,
             "ticks": ""
            },
            "colorscale": [
             [
              0,
              "#0d0887"
             ],
             [
              0.1111111111111111,
              "#46039f"
             ],
             [
              0.2222222222222222,
              "#7201a8"
             ],
             [
              0.3333333333333333,
              "#9c179e"
             ],
             [
              0.4444444444444444,
              "#bd3786"
             ],
             [
              0.5555555555555556,
              "#d8576b"
             ],
             [
              0.6666666666666666,
              "#ed7953"
             ],
             [
              0.7777777777777778,
              "#fb9f3a"
             ],
             [
              0.8888888888888888,
              "#fdca26"
             ],
             [
              1,
              "#f0f921"
             ]
            ],
            "type": "contour"
           }
          ],
          "contourcarpet": [
           {
            "colorbar": {
             "outlinewidth": 0,
             "ticks": ""
            },
            "type": "contourcarpet"
           }
          ],
          "heatmap": [
           {
            "colorbar": {
             "outlinewidth": 0,
             "ticks": ""
            },
            "colorscale": [
             [
              0,
              "#0d0887"
             ],
             [
              0.1111111111111111,
              "#46039f"
             ],
             [
              0.2222222222222222,
              "#7201a8"
             ],
             [
              0.3333333333333333,
              "#9c179e"
             ],
             [
              0.4444444444444444,
              "#bd3786"
             ],
             [
              0.5555555555555556,
              "#d8576b"
             ],
             [
              0.6666666666666666,
              "#ed7953"
             ],
             [
              0.7777777777777778,
              "#fb9f3a"
             ],
             [
              0.8888888888888888,
              "#fdca26"
             ],
             [
              1,
              "#f0f921"
             ]
            ],
            "type": "heatmap"
           }
          ],
          "heatmapgl": [
           {
            "colorbar": {
             "outlinewidth": 0,
             "ticks": ""
            },
            "colorscale": [
             [
              0,
              "#0d0887"
             ],
             [
              0.1111111111111111,
              "#46039f"
             ],
             [
              0.2222222222222222,
              "#7201a8"
             ],
             [
              0.3333333333333333,
              "#9c179e"
             ],
             [
              0.4444444444444444,
              "#bd3786"
             ],
             [
              0.5555555555555556,
              "#d8576b"
             ],
             [
              0.6666666666666666,
              "#ed7953"
             ],
             [
              0.7777777777777778,
              "#fb9f3a"
             ],
             [
              0.8888888888888888,
              "#fdca26"
             ],
             [
              1,
              "#f0f921"
             ]
            ],
            "type": "heatmapgl"
           }
          ],
          "histogram": [
           {
            "marker": {
             "pattern": {
              "fillmode": "overlay",
              "size": 10,
              "solidity": 0.2
             }
            },
            "type": "histogram"
           }
          ],
          "histogram2d": [
           {
            "colorbar": {
             "outlinewidth": 0,
             "ticks": ""
            },
            "colorscale": [
             [
              0,
              "#0d0887"
             ],
             [
              0.1111111111111111,
              "#46039f"
             ],
             [
              0.2222222222222222,
              "#7201a8"
             ],
             [
              0.3333333333333333,
              "#9c179e"
             ],
             [
              0.4444444444444444,
              "#bd3786"
             ],
             [
              0.5555555555555556,
              "#d8576b"
             ],
             [
              0.6666666666666666,
              "#ed7953"
             ],
             [
              0.7777777777777778,
              "#fb9f3a"
             ],
             [
              0.8888888888888888,
              "#fdca26"
             ],
             [
              1,
              "#f0f921"
             ]
            ],
            "type": "histogram2d"
           }
          ],
          "histogram2dcontour": [
           {
            "colorbar": {
             "outlinewidth": 0,
             "ticks": ""
            },
            "colorscale": [
             [
              0,
              "#0d0887"
             ],
             [
              0.1111111111111111,
              "#46039f"
             ],
             [
              0.2222222222222222,
              "#7201a8"
             ],
             [
              0.3333333333333333,
              "#9c179e"
             ],
             [
              0.4444444444444444,
              "#bd3786"
             ],
             [
              0.5555555555555556,
              "#d8576b"
             ],
             [
              0.6666666666666666,
              "#ed7953"
             ],
             [
              0.7777777777777778,
              "#fb9f3a"
             ],
             [
              0.8888888888888888,
              "#fdca26"
             ],
             [
              1,
              "#f0f921"
             ]
            ],
            "type": "histogram2dcontour"
           }
          ],
          "mesh3d": [
           {
            "colorbar": {
             "outlinewidth": 0,
             "ticks": ""
            },
            "type": "mesh3d"
           }
          ],
          "parcoords": [
           {
            "line": {
             "colorbar": {
              "outlinewidth": 0,
              "ticks": ""
             }
            },
            "type": "parcoords"
           }
          ],
          "pie": [
           {
            "automargin": true,
            "type": "pie"
           }
          ],
          "scatter": [
           {
            "fillpattern": {
             "fillmode": "overlay",
             "size": 10,
             "solidity": 0.2
            },
            "type": "scatter"
           }
          ],
          "scatter3d": [
           {
            "line": {
             "colorbar": {
              "outlinewidth": 0,
              "ticks": ""
             }
            },
            "marker": {
             "colorbar": {
              "outlinewidth": 0,
              "ticks": ""
             }
            },
            "type": "scatter3d"
           }
          ],
          "scattercarpet": [
           {
            "marker": {
             "colorbar": {
              "outlinewidth": 0,
              "ticks": ""
             }
            },
            "type": "scattercarpet"
           }
          ],
          "scattergeo": [
           {
            "marker": {
             "colorbar": {
              "outlinewidth": 0,
              "ticks": ""
             }
            },
            "type": "scattergeo"
           }
          ],
          "scattergl": [
           {
            "marker": {
             "colorbar": {
              "outlinewidth": 0,
              "ticks": ""
             }
            },
            "type": "scattergl"
           }
          ],
          "scattermapbox": [
           {
            "marker": {
             "colorbar": {
              "outlinewidth": 0,
              "ticks": ""
             }
            },
            "type": "scattermapbox"
           }
          ],
          "scatterpolar": [
           {
            "marker": {
             "colorbar": {
              "outlinewidth": 0,
              "ticks": ""
             }
            },
            "type": "scatterpolar"
           }
          ],
          "scatterpolargl": [
           {
            "marker": {
             "colorbar": {
              "outlinewidth": 0,
              "ticks": ""
             }
            },
            "type": "scatterpolargl"
           }
          ],
          "scatterternary": [
           {
            "marker": {
             "colorbar": {
              "outlinewidth": 0,
              "ticks": ""
             }
            },
            "type": "scatterternary"
           }
          ],
          "surface": [
           {
            "colorbar": {
             "outlinewidth": 0,
             "ticks": ""
            },
            "colorscale": [
             [
              0,
              "#0d0887"
             ],
             [
              0.1111111111111111,
              "#46039f"
             ],
             [
              0.2222222222222222,
              "#7201a8"
             ],
             [
              0.3333333333333333,
              "#9c179e"
             ],
             [
              0.4444444444444444,
              "#bd3786"
             ],
             [
              0.5555555555555556,
              "#d8576b"
             ],
             [
              0.6666666666666666,
              "#ed7953"
             ],
             [
              0.7777777777777778,
              "#fb9f3a"
             ],
             [
              0.8888888888888888,
              "#fdca26"
             ],
             [
              1,
              "#f0f921"
             ]
            ],
            "type": "surface"
           }
          ],
          "table": [
           {
            "cells": {
             "fill": {
              "color": "#EBF0F8"
             },
             "line": {
              "color": "white"
             }
            },
            "header": {
             "fill": {
              "color": "#C8D4E3"
             },
             "line": {
              "color": "white"
             }
            },
            "type": "table"
           }
          ]
         },
         "layout": {
          "annotationdefaults": {
           "arrowcolor": "#2a3f5f",
           "arrowhead": 0,
           "arrowwidth": 1
          },
          "autotypenumbers": "strict",
          "coloraxis": {
           "colorbar": {
            "outlinewidth": 0,
            "ticks": ""
           }
          },
          "colorscale": {
           "diverging": [
            [
             0,
             "#8e0152"
            ],
            [
             0.1,
             "#c51b7d"
            ],
            [
             0.2,
             "#de77ae"
            ],
            [
             0.3,
             "#f1b6da"
            ],
            [
             0.4,
             "#fde0ef"
            ],
            [
             0.5,
             "#f7f7f7"
            ],
            [
             0.6,
             "#e6f5d0"
            ],
            [
             0.7,
             "#b8e186"
            ],
            [
             0.8,
             "#7fbc41"
            ],
            [
             0.9,
             "#4d9221"
            ],
            [
             1,
             "#276419"
            ]
           ],
           "sequential": [
            [
             0,
             "#0d0887"
            ],
            [
             0.1111111111111111,
             "#46039f"
            ],
            [
             0.2222222222222222,
             "#7201a8"
            ],
            [
             0.3333333333333333,
             "#9c179e"
            ],
            [
             0.4444444444444444,
             "#bd3786"
            ],
            [
             0.5555555555555556,
             "#d8576b"
            ],
            [
             0.6666666666666666,
             "#ed7953"
            ],
            [
             0.7777777777777778,
             "#fb9f3a"
            ],
            [
             0.8888888888888888,
             "#fdca26"
            ],
            [
             1,
             "#f0f921"
            ]
           ],
           "sequentialminus": [
            [
             0,
             "#0d0887"
            ],
            [
             0.1111111111111111,
             "#46039f"
            ],
            [
             0.2222222222222222,
             "#7201a8"
            ],
            [
             0.3333333333333333,
             "#9c179e"
            ],
            [
             0.4444444444444444,
             "#bd3786"
            ],
            [
             0.5555555555555556,
             "#d8576b"
            ],
            [
             0.6666666666666666,
             "#ed7953"
            ],
            [
             0.7777777777777778,
             "#fb9f3a"
            ],
            [
             0.8888888888888888,
             "#fdca26"
            ],
            [
             1,
             "#f0f921"
            ]
           ]
          },
          "colorway": [
           "#636efa",
           "#EF553B",
           "#00cc96",
           "#ab63fa",
           "#FFA15A",
           "#19d3f3",
           "#FF6692",
           "#B6E880",
           "#FF97FF",
           "#FECB52"
          ],
          "font": {
           "color": "#2a3f5f"
          },
          "geo": {
           "bgcolor": "white",
           "lakecolor": "white",
           "landcolor": "#E5ECF6",
           "showlakes": true,
           "showland": true,
           "subunitcolor": "white"
          },
          "hoverlabel": {
           "align": "left"
          },
          "hovermode": "closest",
          "mapbox": {
           "style": "light"
          },
          "paper_bgcolor": "white",
          "plot_bgcolor": "#E5ECF6",
          "polar": {
           "angularaxis": {
            "gridcolor": "white",
            "linecolor": "white",
            "ticks": ""
           },
           "bgcolor": "#E5ECF6",
           "radialaxis": {
            "gridcolor": "white",
            "linecolor": "white",
            "ticks": ""
           }
          },
          "scene": {
           "xaxis": {
            "backgroundcolor": "#E5ECF6",
            "gridcolor": "white",
            "gridwidth": 2,
            "linecolor": "white",
            "showbackground": true,
            "ticks": "",
            "zerolinecolor": "white"
           },
           "yaxis": {
            "backgroundcolor": "#E5ECF6",
            "gridcolor": "white",
            "gridwidth": 2,
            "linecolor": "white",
            "showbackground": true,
            "ticks": "",
            "zerolinecolor": "white"
           },
           "zaxis": {
            "backgroundcolor": "#E5ECF6",
            "gridcolor": "white",
            "gridwidth": 2,
            "linecolor": "white",
            "showbackground": true,
            "ticks": "",
            "zerolinecolor": "white"
           }
          },
          "shapedefaults": {
           "line": {
            "color": "#2a3f5f"
           }
          },
          "ternary": {
           "aaxis": {
            "gridcolor": "white",
            "linecolor": "white",
            "ticks": ""
           },
           "baxis": {
            "gridcolor": "white",
            "linecolor": "white",
            "ticks": ""
           },
           "bgcolor": "#E5ECF6",
           "caxis": {
            "gridcolor": "white",
            "linecolor": "white",
            "ticks": ""
           }
          },
          "title": {
           "x": 0.05
          },
          "xaxis": {
           "automargin": true,
           "gridcolor": "white",
           "linecolor": "white",
           "ticks": "",
           "title": {
            "standoff": 15
           },
           "zerolinecolor": "white",
           "zerolinewidth": 2
          },
          "yaxis": {
           "automargin": true,
           "gridcolor": "white",
           "linecolor": "white",
           "ticks": "",
           "title": {
            "standoff": 15
           },
           "zerolinecolor": "white",
           "zerolinewidth": 2
          }
         }
        },
        "xaxis": {
         "anchor": "y",
         "constrain": "domain",
         "domain": [
          0,
          1
         ],
         "scaleanchor": "y"
        },
        "yaxis": {
         "anchor": "x",
         "autorange": "reversed",
         "constrain": "domain",
         "domain": [
          0,
          1
         ]
        }
       }
      }
     },
     "metadata": {},
     "output_type": "display_data"
    }
   ],
   "source": [
    "rdm____ = RDM(18, 0.0, 2, False)\n",
    "\n",
    "eig_E_s__, eigvs_V___ = scipy.linalg.eigh(rdm____)\n",
    "fig = px.imshow(rdm____, color_continuous_scale='Viridis')\n",
    "print(eig_E_s__)\n",
    "fig.show()"
   ]
  },
  {
   "cell_type": "code",
   "execution_count": 185,
   "metadata": {},
   "outputs": [
    {
     "name": "stdout",
     "output_type": "stream",
     "text": [
      "[0.498333296294614425114844 0.501666703705386129996668]\n"
     ]
    },
    {
     "data": {
      "application/vnd.plotly.v1+json": {
       "config": {
        "plotlyServerURL": "https://plot.ly"
       },
       "data": [
        {
         "coloraxis": "coloraxis",
         "hovertemplate": "x: %{x}<br>y: %{y}<br>color: %{z}<extra></extra>",
         "name": "0",
         "type": "heatmap",
         "xaxis": "x",
         "yaxis": "y",
         "z": [
          [
           0.5000000000000006,
           -0.0016667037053859357
          ],
          [
           -0.0016667037053859635,
           0.5
          ]
         ]
        }
       ],
       "layout": {
        "coloraxis": {
         "colorscale": [
          [
           0,
           "#440154"
          ],
          [
           0.1111111111111111,
           "#482878"
          ],
          [
           0.2222222222222222,
           "#3e4989"
          ],
          [
           0.3333333333333333,
           "#31688e"
          ],
          [
           0.4444444444444444,
           "#26828e"
          ],
          [
           0.5555555555555556,
           "#1f9e89"
          ],
          [
           0.6666666666666666,
           "#35b779"
          ],
          [
           0.7777777777777778,
           "#6ece58"
          ],
          [
           0.8888888888888888,
           "#b5de2b"
          ],
          [
           1,
           "#fde725"
          ]
         ]
        },
        "margin": {
         "t": 60
        },
        "template": {
         "data": {
          "bar": [
           {
            "error_x": {
             "color": "#2a3f5f"
            },
            "error_y": {
             "color": "#2a3f5f"
            },
            "marker": {
             "line": {
              "color": "#E5ECF6",
              "width": 0.5
             },
             "pattern": {
              "fillmode": "overlay",
              "size": 10,
              "solidity": 0.2
             }
            },
            "type": "bar"
           }
          ],
          "barpolar": [
           {
            "marker": {
             "line": {
              "color": "#E5ECF6",
              "width": 0.5
             },
             "pattern": {
              "fillmode": "overlay",
              "size": 10,
              "solidity": 0.2
             }
            },
            "type": "barpolar"
           }
          ],
          "carpet": [
           {
            "aaxis": {
             "endlinecolor": "#2a3f5f",
             "gridcolor": "white",
             "linecolor": "white",
             "minorgridcolor": "white",
             "startlinecolor": "#2a3f5f"
            },
            "baxis": {
             "endlinecolor": "#2a3f5f",
             "gridcolor": "white",
             "linecolor": "white",
             "minorgridcolor": "white",
             "startlinecolor": "#2a3f5f"
            },
            "type": "carpet"
           }
          ],
          "choropleth": [
           {
            "colorbar": {
             "outlinewidth": 0,
             "ticks": ""
            },
            "type": "choropleth"
           }
          ],
          "contour": [
           {
            "colorbar": {
             "outlinewidth": 0,
             "ticks": ""
            },
            "colorscale": [
             [
              0,
              "#0d0887"
             ],
             [
              0.1111111111111111,
              "#46039f"
             ],
             [
              0.2222222222222222,
              "#7201a8"
             ],
             [
              0.3333333333333333,
              "#9c179e"
             ],
             [
              0.4444444444444444,
              "#bd3786"
             ],
             [
              0.5555555555555556,
              "#d8576b"
             ],
             [
              0.6666666666666666,
              "#ed7953"
             ],
             [
              0.7777777777777778,
              "#fb9f3a"
             ],
             [
              0.8888888888888888,
              "#fdca26"
             ],
             [
              1,
              "#f0f921"
             ]
            ],
            "type": "contour"
           }
          ],
          "contourcarpet": [
           {
            "colorbar": {
             "outlinewidth": 0,
             "ticks": ""
            },
            "type": "contourcarpet"
           }
          ],
          "heatmap": [
           {
            "colorbar": {
             "outlinewidth": 0,
             "ticks": ""
            },
            "colorscale": [
             [
              0,
              "#0d0887"
             ],
             [
              0.1111111111111111,
              "#46039f"
             ],
             [
              0.2222222222222222,
              "#7201a8"
             ],
             [
              0.3333333333333333,
              "#9c179e"
             ],
             [
              0.4444444444444444,
              "#bd3786"
             ],
             [
              0.5555555555555556,
              "#d8576b"
             ],
             [
              0.6666666666666666,
              "#ed7953"
             ],
             [
              0.7777777777777778,
              "#fb9f3a"
             ],
             [
              0.8888888888888888,
              "#fdca26"
             ],
             [
              1,
              "#f0f921"
             ]
            ],
            "type": "heatmap"
           }
          ],
          "heatmapgl": [
           {
            "colorbar": {
             "outlinewidth": 0,
             "ticks": ""
            },
            "colorscale": [
             [
              0,
              "#0d0887"
             ],
             [
              0.1111111111111111,
              "#46039f"
             ],
             [
              0.2222222222222222,
              "#7201a8"
             ],
             [
              0.3333333333333333,
              "#9c179e"
             ],
             [
              0.4444444444444444,
              "#bd3786"
             ],
             [
              0.5555555555555556,
              "#d8576b"
             ],
             [
              0.6666666666666666,
              "#ed7953"
             ],
             [
              0.7777777777777778,
              "#fb9f3a"
             ],
             [
              0.8888888888888888,
              "#fdca26"
             ],
             [
              1,
              "#f0f921"
             ]
            ],
            "type": "heatmapgl"
           }
          ],
          "histogram": [
           {
            "marker": {
             "pattern": {
              "fillmode": "overlay",
              "size": 10,
              "solidity": 0.2
             }
            },
            "type": "histogram"
           }
          ],
          "histogram2d": [
           {
            "colorbar": {
             "outlinewidth": 0,
             "ticks": ""
            },
            "colorscale": [
             [
              0,
              "#0d0887"
             ],
             [
              0.1111111111111111,
              "#46039f"
             ],
             [
              0.2222222222222222,
              "#7201a8"
             ],
             [
              0.3333333333333333,
              "#9c179e"
             ],
             [
              0.4444444444444444,
              "#bd3786"
             ],
             [
              0.5555555555555556,
              "#d8576b"
             ],
             [
              0.6666666666666666,
              "#ed7953"
             ],
             [
              0.7777777777777778,
              "#fb9f3a"
             ],
             [
              0.8888888888888888,
              "#fdca26"
             ],
             [
              1,
              "#f0f921"
             ]
            ],
            "type": "histogram2d"
           }
          ],
          "histogram2dcontour": [
           {
            "colorbar": {
             "outlinewidth": 0,
             "ticks": ""
            },
            "colorscale": [
             [
              0,
              "#0d0887"
             ],
             [
              0.1111111111111111,
              "#46039f"
             ],
             [
              0.2222222222222222,
              "#7201a8"
             ],
             [
              0.3333333333333333,
              "#9c179e"
             ],
             [
              0.4444444444444444,
              "#bd3786"
             ],
             [
              0.5555555555555556,
              "#d8576b"
             ],
             [
              0.6666666666666666,
              "#ed7953"
             ],
             [
              0.7777777777777778,
              "#fb9f3a"
             ],
             [
              0.8888888888888888,
              "#fdca26"
             ],
             [
              1,
              "#f0f921"
             ]
            ],
            "type": "histogram2dcontour"
           }
          ],
          "mesh3d": [
           {
            "colorbar": {
             "outlinewidth": 0,
             "ticks": ""
            },
            "type": "mesh3d"
           }
          ],
          "parcoords": [
           {
            "line": {
             "colorbar": {
              "outlinewidth": 0,
              "ticks": ""
             }
            },
            "type": "parcoords"
           }
          ],
          "pie": [
           {
            "automargin": true,
            "type": "pie"
           }
          ],
          "scatter": [
           {
            "fillpattern": {
             "fillmode": "overlay",
             "size": 10,
             "solidity": 0.2
            },
            "type": "scatter"
           }
          ],
          "scatter3d": [
           {
            "line": {
             "colorbar": {
              "outlinewidth": 0,
              "ticks": ""
             }
            },
            "marker": {
             "colorbar": {
              "outlinewidth": 0,
              "ticks": ""
             }
            },
            "type": "scatter3d"
           }
          ],
          "scattercarpet": [
           {
            "marker": {
             "colorbar": {
              "outlinewidth": 0,
              "ticks": ""
             }
            },
            "type": "scattercarpet"
           }
          ],
          "scattergeo": [
           {
            "marker": {
             "colorbar": {
              "outlinewidth": 0,
              "ticks": ""
             }
            },
            "type": "scattergeo"
           }
          ],
          "scattergl": [
           {
            "marker": {
             "colorbar": {
              "outlinewidth": 0,
              "ticks": ""
             }
            },
            "type": "scattergl"
           }
          ],
          "scattermapbox": [
           {
            "marker": {
             "colorbar": {
              "outlinewidth": 0,
              "ticks": ""
             }
            },
            "type": "scattermapbox"
           }
          ],
          "scatterpolar": [
           {
            "marker": {
             "colorbar": {
              "outlinewidth": 0,
              "ticks": ""
             }
            },
            "type": "scatterpolar"
           }
          ],
          "scatterpolargl": [
           {
            "marker": {
             "colorbar": {
              "outlinewidth": 0,
              "ticks": ""
             }
            },
            "type": "scatterpolargl"
           }
          ],
          "scatterternary": [
           {
            "marker": {
             "colorbar": {
              "outlinewidth": 0,
              "ticks": ""
             }
            },
            "type": "scatterternary"
           }
          ],
          "surface": [
           {
            "colorbar": {
             "outlinewidth": 0,
             "ticks": ""
            },
            "colorscale": [
             [
              0,
              "#0d0887"
             ],
             [
              0.1111111111111111,
              "#46039f"
             ],
             [
              0.2222222222222222,
              "#7201a8"
             ],
             [
              0.3333333333333333,
              "#9c179e"
             ],
             [
              0.4444444444444444,
              "#bd3786"
             ],
             [
              0.5555555555555556,
              "#d8576b"
             ],
             [
              0.6666666666666666,
              "#ed7953"
             ],
             [
              0.7777777777777778,
              "#fb9f3a"
             ],
             [
              0.8888888888888888,
              "#fdca26"
             ],
             [
              1,
              "#f0f921"
             ]
            ],
            "type": "surface"
           }
          ],
          "table": [
           {
            "cells": {
             "fill": {
              "color": "#EBF0F8"
             },
             "line": {
              "color": "white"
             }
            },
            "header": {
             "fill": {
              "color": "#C8D4E3"
             },
             "line": {
              "color": "white"
             }
            },
            "type": "table"
           }
          ]
         },
         "layout": {
          "annotationdefaults": {
           "arrowcolor": "#2a3f5f",
           "arrowhead": 0,
           "arrowwidth": 1
          },
          "autotypenumbers": "strict",
          "coloraxis": {
           "colorbar": {
            "outlinewidth": 0,
            "ticks": ""
           }
          },
          "colorscale": {
           "diverging": [
            [
             0,
             "#8e0152"
            ],
            [
             0.1,
             "#c51b7d"
            ],
            [
             0.2,
             "#de77ae"
            ],
            [
             0.3,
             "#f1b6da"
            ],
            [
             0.4,
             "#fde0ef"
            ],
            [
             0.5,
             "#f7f7f7"
            ],
            [
             0.6,
             "#e6f5d0"
            ],
            [
             0.7,
             "#b8e186"
            ],
            [
             0.8,
             "#7fbc41"
            ],
            [
             0.9,
             "#4d9221"
            ],
            [
             1,
             "#276419"
            ]
           ],
           "sequential": [
            [
             0,
             "#0d0887"
            ],
            [
             0.1111111111111111,
             "#46039f"
            ],
            [
             0.2222222222222222,
             "#7201a8"
            ],
            [
             0.3333333333333333,
             "#9c179e"
            ],
            [
             0.4444444444444444,
             "#bd3786"
            ],
            [
             0.5555555555555556,
             "#d8576b"
            ],
            [
             0.6666666666666666,
             "#ed7953"
            ],
            [
             0.7777777777777778,
             "#fb9f3a"
            ],
            [
             0.8888888888888888,
             "#fdca26"
            ],
            [
             1,
             "#f0f921"
            ]
           ],
           "sequentialminus": [
            [
             0,
             "#0d0887"
            ],
            [
             0.1111111111111111,
             "#46039f"
            ],
            [
             0.2222222222222222,
             "#7201a8"
            ],
            [
             0.3333333333333333,
             "#9c179e"
            ],
            [
             0.4444444444444444,
             "#bd3786"
            ],
            [
             0.5555555555555556,
             "#d8576b"
            ],
            [
             0.6666666666666666,
             "#ed7953"
            ],
            [
             0.7777777777777778,
             "#fb9f3a"
            ],
            [
             0.8888888888888888,
             "#fdca26"
            ],
            [
             1,
             "#f0f921"
            ]
           ]
          },
          "colorway": [
           "#636efa",
           "#EF553B",
           "#00cc96",
           "#ab63fa",
           "#FFA15A",
           "#19d3f3",
           "#FF6692",
           "#B6E880",
           "#FF97FF",
           "#FECB52"
          ],
          "font": {
           "color": "#2a3f5f"
          },
          "geo": {
           "bgcolor": "white",
           "lakecolor": "white",
           "landcolor": "#E5ECF6",
           "showlakes": true,
           "showland": true,
           "subunitcolor": "white"
          },
          "hoverlabel": {
           "align": "left"
          },
          "hovermode": "closest",
          "mapbox": {
           "style": "light"
          },
          "paper_bgcolor": "white",
          "plot_bgcolor": "#E5ECF6",
          "polar": {
           "angularaxis": {
            "gridcolor": "white",
            "linecolor": "white",
            "ticks": ""
           },
           "bgcolor": "#E5ECF6",
           "radialaxis": {
            "gridcolor": "white",
            "linecolor": "white",
            "ticks": ""
           }
          },
          "scene": {
           "xaxis": {
            "backgroundcolor": "#E5ECF6",
            "gridcolor": "white",
            "gridwidth": 2,
            "linecolor": "white",
            "showbackground": true,
            "ticks": "",
            "zerolinecolor": "white"
           },
           "yaxis": {
            "backgroundcolor": "#E5ECF6",
            "gridcolor": "white",
            "gridwidth": 2,
            "linecolor": "white",
            "showbackground": true,
            "ticks": "",
            "zerolinecolor": "white"
           },
           "zaxis": {
            "backgroundcolor": "#E5ECF6",
            "gridcolor": "white",
            "gridwidth": 2,
            "linecolor": "white",
            "showbackground": true,
            "ticks": "",
            "zerolinecolor": "white"
           }
          },
          "shapedefaults": {
           "line": {
            "color": "#2a3f5f"
           }
          },
          "ternary": {
           "aaxis": {
            "gridcolor": "white",
            "linecolor": "white",
            "ticks": ""
           },
           "baxis": {
            "gridcolor": "white",
            "linecolor": "white",
            "ticks": ""
           },
           "bgcolor": "#E5ECF6",
           "caxis": {
            "gridcolor": "white",
            "linecolor": "white",
            "ticks": ""
           }
          },
          "title": {
           "x": 0.05
          },
          "xaxis": {
           "automargin": true,
           "gridcolor": "white",
           "linecolor": "white",
           "ticks": "",
           "title": {
            "standoff": 15
           },
           "zerolinecolor": "white",
           "zerolinewidth": 2
          },
          "yaxis": {
           "automargin": true,
           "gridcolor": "white",
           "linecolor": "white",
           "ticks": "",
           "title": {
            "standoff": 15
           },
           "zerolinecolor": "white",
           "zerolinewidth": 2
          }
         }
        },
        "xaxis": {
         "anchor": "y",
         "constrain": "domain",
         "domain": [
          0,
          1
         ],
         "scaleanchor": "y"
        },
        "yaxis": {
         "anchor": "x",
         "autorange": "reversed",
         "constrain": "domain",
         "domain": [
          0,
          1
         ]
        }
       }
      }
     },
     "metadata": {},
     "output_type": "display_data"
    }
   ],
   "source": [
    "rdm____ = RDM(18, 0.0-0.01, 1, True)\n",
    "\n",
    "eig_E_s__, eigvs_V___ = scipy.linalg.eigh(rdm____)\n",
    "fig = px.imshow(rdm____, color_continuous_scale='Viridis')\n",
    "print(eig_E_s__)\n",
    "fig.show()"
   ]
  },
  {
   "cell_type": "code",
   "execution_count": 140,
   "metadata": {},
   "outputs": [
    {
     "data": {
      "text/plain": [
       "array([[ 5.000000000000002220446049e-01, -1.666666680566475378100222e-05],\n",
       "       [-1.666666680563699820538659e-05,  5.000000000000004440892099e-01]])"
      ]
     },
     "execution_count": 140,
     "metadata": {},
     "output_type": "execute_result"
    }
   ],
   "source": [
    "RDM(6, 0.0 - 0.0001, 1, fix_GS_block = True)"
   ]
  },
  {
   "cell_type": "code",
   "execution_count": 153,
   "metadata": {},
   "outputs": [
    {
     "data": {
      "text/plain": [
       "array([[ 9.345363126613853710367152e-01, -1.735050382696023335097685e-34],\n",
       "       [-1.735050382696023335097685e-34,  6.546368733861455957434572e-02]])"
      ]
     },
     "execution_count": 153,
     "metadata": {},
     "output_type": "execute_result"
    }
   ],
   "source": [
    "RDM(6, 0.0, 1, fix_GS_block = False)"
   ]
  },
  {
   "cell_type": "code",
   "execution_count": 136,
   "metadata": {},
   "outputs": [
    {
     "data": {
      "application/vnd.plotly.v1+json": {
       "config": {
        "plotlyServerURL": "https://plot.ly"
       },
       "data": [
        {
         "coloraxis": "coloraxis",
         "hovertemplate": "x: %{x}<br>y: %{y}<br>color: %{z}<extra></extra>",
         "name": "0",
         "type": "heatmap",
         "xaxis": "x",
         "yaxis": "y",
         "z": [
          [
           0.5102389115702646,
           0.000016666666679702362
          ],
          [
           0.000016666666679702308,
           0.48976108842973537
          ]
         ]
        }
       ],
       "layout": {
        "coloraxis": {
         "colorscale": [
          [
           0,
           "#440154"
          ],
          [
           0.1111111111111111,
           "#482878"
          ],
          [
           0.2222222222222222,
           "#3e4989"
          ],
          [
           0.3333333333333333,
           "#31688e"
          ],
          [
           0.4444444444444444,
           "#26828e"
          ],
          [
           0.5555555555555556,
           "#1f9e89"
          ],
          [
           0.6666666666666666,
           "#35b779"
          ],
          [
           0.7777777777777778,
           "#6ece58"
          ],
          [
           0.8888888888888888,
           "#b5de2b"
          ],
          [
           1,
           "#fde725"
          ]
         ]
        },
        "margin": {
         "t": 60
        },
        "template": {
         "data": {
          "bar": [
           {
            "error_x": {
             "color": "#2a3f5f"
            },
            "error_y": {
             "color": "#2a3f5f"
            },
            "marker": {
             "line": {
              "color": "#E5ECF6",
              "width": 0.5
             },
             "pattern": {
              "fillmode": "overlay",
              "size": 10,
              "solidity": 0.2
             }
            },
            "type": "bar"
           }
          ],
          "barpolar": [
           {
            "marker": {
             "line": {
              "color": "#E5ECF6",
              "width": 0.5
             },
             "pattern": {
              "fillmode": "overlay",
              "size": 10,
              "solidity": 0.2
             }
            },
            "type": "barpolar"
           }
          ],
          "carpet": [
           {
            "aaxis": {
             "endlinecolor": "#2a3f5f",
             "gridcolor": "white",
             "linecolor": "white",
             "minorgridcolor": "white",
             "startlinecolor": "#2a3f5f"
            },
            "baxis": {
             "endlinecolor": "#2a3f5f",
             "gridcolor": "white",
             "linecolor": "white",
             "minorgridcolor": "white",
             "startlinecolor": "#2a3f5f"
            },
            "type": "carpet"
           }
          ],
          "choropleth": [
           {
            "colorbar": {
             "outlinewidth": 0,
             "ticks": ""
            },
            "type": "choropleth"
           }
          ],
          "contour": [
           {
            "colorbar": {
             "outlinewidth": 0,
             "ticks": ""
            },
            "colorscale": [
             [
              0,
              "#0d0887"
             ],
             [
              0.1111111111111111,
              "#46039f"
             ],
             [
              0.2222222222222222,
              "#7201a8"
             ],
             [
              0.3333333333333333,
              "#9c179e"
             ],
             [
              0.4444444444444444,
              "#bd3786"
             ],
             [
              0.5555555555555556,
              "#d8576b"
             ],
             [
              0.6666666666666666,
              "#ed7953"
             ],
             [
              0.7777777777777778,
              "#fb9f3a"
             ],
             [
              0.8888888888888888,
              "#fdca26"
             ],
             [
              1,
              "#f0f921"
             ]
            ],
            "type": "contour"
           }
          ],
          "contourcarpet": [
           {
            "colorbar": {
             "outlinewidth": 0,
             "ticks": ""
            },
            "type": "contourcarpet"
           }
          ],
          "heatmap": [
           {
            "colorbar": {
             "outlinewidth": 0,
             "ticks": ""
            },
            "colorscale": [
             [
              0,
              "#0d0887"
             ],
             [
              0.1111111111111111,
              "#46039f"
             ],
             [
              0.2222222222222222,
              "#7201a8"
             ],
             [
              0.3333333333333333,
              "#9c179e"
             ],
             [
              0.4444444444444444,
              "#bd3786"
             ],
             [
              0.5555555555555556,
              "#d8576b"
             ],
             [
              0.6666666666666666,
              "#ed7953"
             ],
             [
              0.7777777777777778,
              "#fb9f3a"
             ],
             [
              0.8888888888888888,
              "#fdca26"
             ],
             [
              1,
              "#f0f921"
             ]
            ],
            "type": "heatmap"
           }
          ],
          "heatmapgl": [
           {
            "colorbar": {
             "outlinewidth": 0,
             "ticks": ""
            },
            "colorscale": [
             [
              0,
              "#0d0887"
             ],
             [
              0.1111111111111111,
              "#46039f"
             ],
             [
              0.2222222222222222,
              "#7201a8"
             ],
             [
              0.3333333333333333,
              "#9c179e"
             ],
             [
              0.4444444444444444,
              "#bd3786"
             ],
             [
              0.5555555555555556,
              "#d8576b"
             ],
             [
              0.6666666666666666,
              "#ed7953"
             ],
             [
              0.7777777777777778,
              "#fb9f3a"
             ],
             [
              0.8888888888888888,
              "#fdca26"
             ],
             [
              1,
              "#f0f921"
             ]
            ],
            "type": "heatmapgl"
           }
          ],
          "histogram": [
           {
            "marker": {
             "pattern": {
              "fillmode": "overlay",
              "size": 10,
              "solidity": 0.2
             }
            },
            "type": "histogram"
           }
          ],
          "histogram2d": [
           {
            "colorbar": {
             "outlinewidth": 0,
             "ticks": ""
            },
            "colorscale": [
             [
              0,
              "#0d0887"
             ],
             [
              0.1111111111111111,
              "#46039f"
             ],
             [
              0.2222222222222222,
              "#7201a8"
             ],
             [
              0.3333333333333333,
              "#9c179e"
             ],
             [
              0.4444444444444444,
              "#bd3786"
             ],
             [
              0.5555555555555556,
              "#d8576b"
             ],
             [
              0.6666666666666666,
              "#ed7953"
             ],
             [
              0.7777777777777778,
              "#fb9f3a"
             ],
             [
              0.8888888888888888,
              "#fdca26"
             ],
             [
              1,
              "#f0f921"
             ]
            ],
            "type": "histogram2d"
           }
          ],
          "histogram2dcontour": [
           {
            "colorbar": {
             "outlinewidth": 0,
             "ticks": ""
            },
            "colorscale": [
             [
              0,
              "#0d0887"
             ],
             [
              0.1111111111111111,
              "#46039f"
             ],
             [
              0.2222222222222222,
              "#7201a8"
             ],
             [
              0.3333333333333333,
              "#9c179e"
             ],
             [
              0.4444444444444444,
              "#bd3786"
             ],
             [
              0.5555555555555556,
              "#d8576b"
             ],
             [
              0.6666666666666666,
              "#ed7953"
             ],
             [
              0.7777777777777778,
              "#fb9f3a"
             ],
             [
              0.8888888888888888,
              "#fdca26"
             ],
             [
              1,
              "#f0f921"
             ]
            ],
            "type": "histogram2dcontour"
           }
          ],
          "mesh3d": [
           {
            "colorbar": {
             "outlinewidth": 0,
             "ticks": ""
            },
            "type": "mesh3d"
           }
          ],
          "parcoords": [
           {
            "line": {
             "colorbar": {
              "outlinewidth": 0,
              "ticks": ""
             }
            },
            "type": "parcoords"
           }
          ],
          "pie": [
           {
            "automargin": true,
            "type": "pie"
           }
          ],
          "scatter": [
           {
            "fillpattern": {
             "fillmode": "overlay",
             "size": 10,
             "solidity": 0.2
            },
            "type": "scatter"
           }
          ],
          "scatter3d": [
           {
            "line": {
             "colorbar": {
              "outlinewidth": 0,
              "ticks": ""
             }
            },
            "marker": {
             "colorbar": {
              "outlinewidth": 0,
              "ticks": ""
             }
            },
            "type": "scatter3d"
           }
          ],
          "scattercarpet": [
           {
            "marker": {
             "colorbar": {
              "outlinewidth": 0,
              "ticks": ""
             }
            },
            "type": "scattercarpet"
           }
          ],
          "scattergeo": [
           {
            "marker": {
             "colorbar": {
              "outlinewidth": 0,
              "ticks": ""
             }
            },
            "type": "scattergeo"
           }
          ],
          "scattergl": [
           {
            "marker": {
             "colorbar": {
              "outlinewidth": 0,
              "ticks": ""
             }
            },
            "type": "scattergl"
           }
          ],
          "scattermapbox": [
           {
            "marker": {
             "colorbar": {
              "outlinewidth": 0,
              "ticks": ""
             }
            },
            "type": "scattermapbox"
           }
          ],
          "scatterpolar": [
           {
            "marker": {
             "colorbar": {
              "outlinewidth": 0,
              "ticks": ""
             }
            },
            "type": "scatterpolar"
           }
          ],
          "scatterpolargl": [
           {
            "marker": {
             "colorbar": {
              "outlinewidth": 0,
              "ticks": ""
             }
            },
            "type": "scatterpolargl"
           }
          ],
          "scatterternary": [
           {
            "marker": {
             "colorbar": {
              "outlinewidth": 0,
              "ticks": ""
             }
            },
            "type": "scatterternary"
           }
          ],
          "surface": [
           {
            "colorbar": {
             "outlinewidth": 0,
             "ticks": ""
            },
            "colorscale": [
             [
              0,
              "#0d0887"
             ],
             [
              0.1111111111111111,
              "#46039f"
             ],
             [
              0.2222222222222222,
              "#7201a8"
             ],
             [
              0.3333333333333333,
              "#9c179e"
             ],
             [
              0.4444444444444444,
              "#bd3786"
             ],
             [
              0.5555555555555556,
              "#d8576b"
             ],
             [
              0.6666666666666666,
              "#ed7953"
             ],
             [
              0.7777777777777778,
              "#fb9f3a"
             ],
             [
              0.8888888888888888,
              "#fdca26"
             ],
             [
              1,
              "#f0f921"
             ]
            ],
            "type": "surface"
           }
          ],
          "table": [
           {
            "cells": {
             "fill": {
              "color": "#EBF0F8"
             },
             "line": {
              "color": "white"
             }
            },
            "header": {
             "fill": {
              "color": "#C8D4E3"
             },
             "line": {
              "color": "white"
             }
            },
            "type": "table"
           }
          ]
         },
         "layout": {
          "annotationdefaults": {
           "arrowcolor": "#2a3f5f",
           "arrowhead": 0,
           "arrowwidth": 1
          },
          "autotypenumbers": "strict",
          "coloraxis": {
           "colorbar": {
            "outlinewidth": 0,
            "ticks": ""
           }
          },
          "colorscale": {
           "diverging": [
            [
             0,
             "#8e0152"
            ],
            [
             0.1,
             "#c51b7d"
            ],
            [
             0.2,
             "#de77ae"
            ],
            [
             0.3,
             "#f1b6da"
            ],
            [
             0.4,
             "#fde0ef"
            ],
            [
             0.5,
             "#f7f7f7"
            ],
            [
             0.6,
             "#e6f5d0"
            ],
            [
             0.7,
             "#b8e186"
            ],
            [
             0.8,
             "#7fbc41"
            ],
            [
             0.9,
             "#4d9221"
            ],
            [
             1,
             "#276419"
            ]
           ],
           "sequential": [
            [
             0,
             "#0d0887"
            ],
            [
             0.1111111111111111,
             "#46039f"
            ],
            [
             0.2222222222222222,
             "#7201a8"
            ],
            [
             0.3333333333333333,
             "#9c179e"
            ],
            [
             0.4444444444444444,
             "#bd3786"
            ],
            [
             0.5555555555555556,
             "#d8576b"
            ],
            [
             0.6666666666666666,
             "#ed7953"
            ],
            [
             0.7777777777777778,
             "#fb9f3a"
            ],
            [
             0.8888888888888888,
             "#fdca26"
            ],
            [
             1,
             "#f0f921"
            ]
           ],
           "sequentialminus": [
            [
             0,
             "#0d0887"
            ],
            [
             0.1111111111111111,
             "#46039f"
            ],
            [
             0.2222222222222222,
             "#7201a8"
            ],
            [
             0.3333333333333333,
             "#9c179e"
            ],
            [
             0.4444444444444444,
             "#bd3786"
            ],
            [
             0.5555555555555556,
             "#d8576b"
            ],
            [
             0.6666666666666666,
             "#ed7953"
            ],
            [
             0.7777777777777778,
             "#fb9f3a"
            ],
            [
             0.8888888888888888,
             "#fdca26"
            ],
            [
             1,
             "#f0f921"
            ]
           ]
          },
          "colorway": [
           "#636efa",
           "#EF553B",
           "#00cc96",
           "#ab63fa",
           "#FFA15A",
           "#19d3f3",
           "#FF6692",
           "#B6E880",
           "#FF97FF",
           "#FECB52"
          ],
          "font": {
           "color": "#2a3f5f"
          },
          "geo": {
           "bgcolor": "white",
           "lakecolor": "white",
           "landcolor": "#E5ECF6",
           "showlakes": true,
           "showland": true,
           "subunitcolor": "white"
          },
          "hoverlabel": {
           "align": "left"
          },
          "hovermode": "closest",
          "mapbox": {
           "style": "light"
          },
          "paper_bgcolor": "white",
          "plot_bgcolor": "#E5ECF6",
          "polar": {
           "angularaxis": {
            "gridcolor": "white",
            "linecolor": "white",
            "ticks": ""
           },
           "bgcolor": "#E5ECF6",
           "radialaxis": {
            "gridcolor": "white",
            "linecolor": "white",
            "ticks": ""
           }
          },
          "scene": {
           "xaxis": {
            "backgroundcolor": "#E5ECF6",
            "gridcolor": "white",
            "gridwidth": 2,
            "linecolor": "white",
            "showbackground": true,
            "ticks": "",
            "zerolinecolor": "white"
           },
           "yaxis": {
            "backgroundcolor": "#E5ECF6",
            "gridcolor": "white",
            "gridwidth": 2,
            "linecolor": "white",
            "showbackground": true,
            "ticks": "",
            "zerolinecolor": "white"
           },
           "zaxis": {
            "backgroundcolor": "#E5ECF6",
            "gridcolor": "white",
            "gridwidth": 2,
            "linecolor": "white",
            "showbackground": true,
            "ticks": "",
            "zerolinecolor": "white"
           }
          },
          "shapedefaults": {
           "line": {
            "color": "#2a3f5f"
           }
          },
          "ternary": {
           "aaxis": {
            "gridcolor": "white",
            "linecolor": "white",
            "ticks": ""
           },
           "baxis": {
            "gridcolor": "white",
            "linecolor": "white",
            "ticks": ""
           },
           "bgcolor": "#E5ECF6",
           "caxis": {
            "gridcolor": "white",
            "linecolor": "white",
            "ticks": ""
           }
          },
          "title": {
           "x": 0.05
          },
          "xaxis": {
           "automargin": true,
           "gridcolor": "white",
           "linecolor": "white",
           "ticks": "",
           "title": {
            "standoff": 15
           },
           "zerolinecolor": "white",
           "zerolinewidth": 2
          },
          "yaxis": {
           "automargin": true,
           "gridcolor": "white",
           "linecolor": "white",
           "ticks": "",
           "title": {
            "standoff": 15
           },
           "zerolinecolor": "white",
           "zerolinewidth": 2
          }
         }
        },
        "xaxis": {
         "anchor": "y",
         "constrain": "domain",
         "domain": [
          0,
          1
         ],
         "scaleanchor": "y"
        },
        "yaxis": {
         "anchor": "x",
         "autorange": "reversed",
         "constrain": "domain",
         "domain": [
          0,
          1
         ]
        }
       }
      }
     },
     "metadata": {},
     "output_type": "display_data"
    }
   ],
   "source": [
    "fig = px.imshow(RDM(6, 0.0 + 0.0001, 1, fix_GS_block = False), color_continuous_scale='Viridis')\n",
    "fig.show()"
   ]
  },
  {
   "cell_type": "code",
   "execution_count": 102,
   "metadata": {},
   "outputs": [
    {
     "data": {
      "text/plain": [
       "array([[ 4.849719672760991473481340e-01, -1.666666677286639123081735e-05],\n",
       "       [-1.666666677286633702070873e-05,  5.150280327239010746964709e-01]])"
      ]
     },
     "execution_count": 102,
     "metadata": {},
     "output_type": "execute_result"
    }
   ],
   "source": [
    "RDM(6, 0.0 - 0.0001, 1, fix_GS_block = False)"
   ]
  },
  {
   "cell_type": "code",
   "execution_count": 23,
   "metadata": {},
   "outputs": [
    {
     "name": "stderr",
     "output_type": "stream",
     "text": [
      "/home/naturalis/miniconda3/envs/QuSpin/lib/python3.10/site-packages/scipy/linalg/_matfuncs.py:200: LogmNearlySingularWarning: The logm input matrix may be nearly singular.\n",
      "  F = scipy.linalg._matfuncs_inv_ssq._logm(A)\n"
     ]
    },
    {
     "name": "stdout",
     "output_type": "stream",
     "text": [
      "scipy_logm_trace --> 1.38629436111992\n",
      "while mine       --> 1.3862943611199043\n"
     ]
    }
   ],
   "source": [
    "import scipy\n",
    "\n",
    "def entanglement_entropy__1(size, h, RDM_size, fix_GS_block):\n",
    "    _rdm = RDM(size, h, RDM_size, fix_GS_block)\n",
    "    return - np.real(np.trace(_rdm @ scipy.linalg.logm(_rdm)))\n",
    "\n",
    "def entanglement_entropy__2(size, h, RDM_size, fix_GS_block):\n",
    "    _rdm = RDM(size, h, RDM_size, fix_GS_block)\n",
    "    eigEs, _ = scipy.linalg.eigh(_rdm)\n",
    "    eigEs = eigEs[eigEs > np.finfo(float).eps]\n",
    "    entropy = 0\n",
    "    for i in range(len(eigEs)):\n",
    "        entropy += -eigEs[i] * np.log(eigEs[i])\n",
    "    return entropy\n",
    "\n",
    "def entanglement_entropy(size, h, RDM_size, fix_GS_block):\n",
    "    return entanglement_entropy__2(size, h, RDM_size, fix_GS_block)\n",
    "\n",
    "size = 12\n",
    "sybsystem_size = 7\n",
    "h_val = 0.0\n",
    "\n",
    "print(f'scipy_logm_trace --> {entanglement_entropy__1(size, h_val, sybsystem_size, fix_GS_block=True)}')\n",
    "print(f'while mine       --> {entanglement_entropy__2(size, h_val, sybsystem_size, fix_GS_block=True)}')"
   ]
  },
  {
   "cell_type": "code",
   "execution_count": 30,
   "metadata": {},
   "outputs": [
    {
     "data": {
      "text/plain": [
       "np.float64(1.3862943611198906)"
      ]
     },
     "execution_count": 30,
     "metadata": {},
     "output_type": "execute_result"
    }
   ],
   "source": [
    "entanglement_entropy(12, 0.0, 10, fix_GS_block = True)"
   ]
  },
  {
   "cell_type": "code",
   "execution_count": 35,
   "metadata": {},
   "outputs": [
    {
     "data": {
      "text/plain": [
       "np.float64(1.6653345369377348e-15)"
      ]
     },
     "execution_count": 35,
     "metadata": {},
     "output_type": "execute_result"
    }
   ],
   "source": [
    "N__ = 12\n",
    "n__ = 1\n",
    "h__val = 1.12\n",
    "entanglement_entropy(N__, h__val, n__, fix_GS_block = True) - entanglement_entropy(N__, h__val, n__, fix_GS_block = True)"
   ]
  },
  {
   "cell_type": "code",
   "execution_count": 47,
   "metadata": {},
   "outputs": [
    {
     "data": {
      "text/plain": [
       "np.float64(0.2222214309553445)"
      ]
     },
     "execution_count": 47,
     "metadata": {},
     "output_type": "execute_result"
    }
   ],
   "source": [
    "Sigma_h__nn_3(12, 0.0, 2, fix_GS_block = True)"
   ]
  },
  {
   "cell_type": "code",
   "execution_count": 37,
   "metadata": {},
   "outputs": [
    {
     "data": {
      "text/plain": [
       "np.float64(4.2901054899312403e+17)"
      ]
     },
     "execution_count": 37,
     "metadata": {},
     "output_type": "execute_result"
    }
   ],
   "source": [
    "Sigma_h__nn_3(12, 0.0, 1, fix_GS_block = False)"
   ]
  },
  {
   "cell_type": "code",
   "execution_count": 62,
   "metadata": {},
   "outputs": [
    {
     "data": {
      "text/plain": [
       "np.float64(600.6434824466705)"
      ]
     },
     "execution_count": 62,
     "metadata": {},
     "output_type": "execute_result"
    }
   ],
   "source": [
    "Sigma_h__nn_3(3, 1.0, 2, fix_GS_block = True)"
   ]
  },
  {
   "cell_type": "code",
   "execution_count": 43,
   "metadata": {},
   "outputs": [],
   "source": [
    "def generate_susceptibility_data_nn_3(h_values_array, size, rdm_size):\n",
    "    return np.array(Parallel(n_jobs=12)(\n",
    "        delayed(Sigma_h__nn_3)(size, h, rdm_size, fix_GS_block=True)\n",
    "        for h in tqdm(h_values_array, desc=f\"SusceptEntEnt: N = {size} || s = {rdm_size}\")))\n",
    "\n",
    "def generate_entanglement_entropy_data_nn_3(h_values_array, size, rdm_size):\n",
    "    return np.array(Parallel(n_jobs=12)(\n",
    "        delayed(entanglement_entropy)(size, h, rdm_size, fix_GS_block=True)\n",
    "        for h in tqdm(h_values_array, desc=f\"EntEnt: N = {size} || s = {rdm_size}\")))"
   ]
  },
  {
   "cell_type": "code",
   "execution_count": 58,
   "metadata": {},
   "outputs": [
    {
     "data": {
      "text/plain": [
       "500"
      ]
     },
     "execution_count": 58,
     "metadata": {},
     "output_type": "execute_result"
    }
   ],
   "source": [
    "# h_below = np.linspace(-2, -0.1, 50, endpoint=False)\n",
    "# h_above = np.linspace(0.1, 2, 50)\n",
    "# h_values = np.concat([h_below, h_above])\n",
    "h_values = np.linspace(-2, 2, 500)\n",
    "len(h_values)"
   ]
  },
  {
   "cell_type": "code",
   "execution_count": 60,
   "metadata": {},
   "outputs": [
    {
     "data": {
      "application/vnd.jupyter.widget-view+json": {
       "model_id": "5f7895d1b19249ef94f3b0a6314069e8",
       "version_major": 2,
       "version_minor": 0
      },
      "text/plain": [
       "EntEnt: N = 3 || s = 2:   0%|          | 0/500 [00:00<?, ?it/s]"
      ]
     },
     "metadata": {},
     "output_type": "display_data"
    }
   ],
   "source": [
    "_entent_3__1__FB_T = generate_entanglement_entropy_data_nn_3(h_values, 3, 1)\n",
    "_entent_3__2__FB_T = generate_entanglement_entropy_data_nn_3(h_values, 3, 2)"
   ]
  },
  {
   "cell_type": "code",
   "execution_count": 65,
   "metadata": {},
   "outputs": [
    {
     "data": {
      "text/plain": [
       "np.float64(0.00400801603206391)"
      ]
     },
     "execution_count": 65,
     "metadata": {},
     "output_type": "execute_result"
    }
   ],
   "source": [
    "h_values[250]"
   ]
  },
  {
   "cell_type": "code",
   "execution_count": null,
   "metadata": {},
   "outputs": [],
   "source": []
  },
  {
   "cell_type": "code",
   "execution_count": 71,
   "metadata": {},
   "outputs": [
    {
     "ename": "LinAlgError",
     "evalue": "Singular matrix",
     "output_type": "error",
     "traceback": [
      "\u001b[0;31m---------------------------------------------------------------------------\u001b[0m",
      "\u001b[0;31mLinAlgError\u001b[0m                               Traceback (most recent call last)",
      "Cell \u001b[0;32mIn[71], line 1\u001b[0m\n\u001b[0;32m----> 1\u001b[0m \u001b[43mSigma_h__nn_3\u001b[49m\u001b[43m(\u001b[49m\u001b[38;5;241;43m3\u001b[39;49m\u001b[43m,\u001b[49m\u001b[43m \u001b[49m\u001b[38;5;241;43m0.001\u001b[39;49m\u001b[43m \u001b[49m\u001b[43m,\u001b[49m\u001b[43m \u001b[49m\u001b[38;5;241;43m2\u001b[39;49m\u001b[43m,\u001b[49m\u001b[43m \u001b[49m\u001b[43mfix_GS_block\u001b[49m\u001b[38;5;241;43m=\u001b[39;49m\u001b[38;5;28;43;01mTrue\u001b[39;49;00m\u001b[43m)\u001b[49m\n",
      "Cell \u001b[0;32mIn[14], line 17\u001b[0m, in \u001b[0;36mSigma_h__nn_3\u001b[0;34m(size, h, RDM_size, fix_GS_block, tolerance)\u001b[0m\n\u001b[1;32m     15\u001b[0m _d_h_rdm \u001b[38;5;241m=\u001b[39m (\u001b[38;5;241m1\u001b[39m\u001b[38;5;241m/\u001b[39mtolerance)\u001b[38;5;241m*\u001b[39m(RDM(size, h\u001b[38;5;241m+\u001b[39mtolerance, RDM_size, fix_GS_block) \u001b[38;5;241m-\u001b[39m _rdm)\n\u001b[1;32m     16\u001b[0m squared_d_h_rdm \u001b[38;5;241m=\u001b[39m _d_h_rdm \u001b[38;5;241m@\u001b[39m _d_h_rdm\n\u001b[0;32m---> 17\u001b[0m \u001b[38;5;28;01mreturn\u001b[39;00m np\u001b[38;5;241m.\u001b[39mtrace(\u001b[43mnp\u001b[49m\u001b[38;5;241;43m.\u001b[39;49m\u001b[43mlinalg\u001b[49m\u001b[38;5;241;43m.\u001b[39;49m\u001b[43minv\u001b[49m\u001b[43m(\u001b[49m\u001b[43m_rdm\u001b[49m\u001b[43m)\u001b[49m \u001b[38;5;241m@\u001b[39m squared_d_h_rdm)\u001b[38;5;241m.\u001b[39mreal\n",
      "File \u001b[0;32m~/miniconda3/envs/QuSpin/lib/python3.10/site-packages/numpy/linalg/_linalg.py:608\u001b[0m, in \u001b[0;36minv\u001b[0;34m(a)\u001b[0m\n\u001b[1;32m    605\u001b[0m signature \u001b[38;5;241m=\u001b[39m \u001b[38;5;124m'\u001b[39m\u001b[38;5;124mD->D\u001b[39m\u001b[38;5;124m'\u001b[39m \u001b[38;5;28;01mif\u001b[39;00m isComplexType(t) \u001b[38;5;28;01melse\u001b[39;00m \u001b[38;5;124m'\u001b[39m\u001b[38;5;124md->d\u001b[39m\u001b[38;5;124m'\u001b[39m\n\u001b[1;32m    606\u001b[0m \u001b[38;5;28;01mwith\u001b[39;00m errstate(call\u001b[38;5;241m=\u001b[39m_raise_linalgerror_singular, invalid\u001b[38;5;241m=\u001b[39m\u001b[38;5;124m'\u001b[39m\u001b[38;5;124mcall\u001b[39m\u001b[38;5;124m'\u001b[39m,\n\u001b[1;32m    607\u001b[0m               over\u001b[38;5;241m=\u001b[39m\u001b[38;5;124m'\u001b[39m\u001b[38;5;124mignore\u001b[39m\u001b[38;5;124m'\u001b[39m, divide\u001b[38;5;241m=\u001b[39m\u001b[38;5;124m'\u001b[39m\u001b[38;5;124mignore\u001b[39m\u001b[38;5;124m'\u001b[39m, under\u001b[38;5;241m=\u001b[39m\u001b[38;5;124m'\u001b[39m\u001b[38;5;124mignore\u001b[39m\u001b[38;5;124m'\u001b[39m):\n\u001b[0;32m--> 608\u001b[0m     ainv \u001b[38;5;241m=\u001b[39m \u001b[43m_umath_linalg\u001b[49m\u001b[38;5;241;43m.\u001b[39;49m\u001b[43minv\u001b[49m\u001b[43m(\u001b[49m\u001b[43ma\u001b[49m\u001b[43m,\u001b[49m\u001b[43m \u001b[49m\u001b[43msignature\u001b[49m\u001b[38;5;241;43m=\u001b[39;49m\u001b[43msignature\u001b[49m\u001b[43m)\u001b[49m\n\u001b[1;32m    609\u001b[0m \u001b[38;5;28;01mreturn\u001b[39;00m wrap(ainv\u001b[38;5;241m.\u001b[39mastype(result_t, copy\u001b[38;5;241m=\u001b[39m\u001b[38;5;28;01mFalse\u001b[39;00m))\n",
      "File \u001b[0;32m~/miniconda3/envs/QuSpin/lib/python3.10/site-packages/numpy/linalg/_linalg.py:104\u001b[0m, in \u001b[0;36m_raise_linalgerror_singular\u001b[0;34m(err, flag)\u001b[0m\n\u001b[1;32m    103\u001b[0m \u001b[38;5;28;01mdef\u001b[39;00m \u001b[38;5;21m_raise_linalgerror_singular\u001b[39m(err, flag):\n\u001b[0;32m--> 104\u001b[0m     \u001b[38;5;28;01mraise\u001b[39;00m LinAlgError(\u001b[38;5;124m\"\u001b[39m\u001b[38;5;124mSingular matrix\u001b[39m\u001b[38;5;124m\"\u001b[39m)\n",
      "\u001b[0;31mLinAlgError\u001b[0m: Singular matrix"
     ]
    }
   ],
   "source": [
    "Sigma_h__nn_3(3, 0.001 , 2, fix_GS_block=True)"
   ]
  },
  {
   "cell_type": "code",
   "execution_count": 61,
   "metadata": {},
   "outputs": [
    {
     "data": {
      "application/vnd.jupyter.widget-view+json": {
       "model_id": "8aee5045268f47ae9a99e6f56705c155",
       "version_major": 2,
       "version_minor": 0
      },
      "text/plain": [
       "SusceptEntEnt: N = 3 || s = 1:   0%|          | 0/500 [00:00<?, ?it/s]"
      ]
     },
     "metadata": {},
     "output_type": "display_data"
    },
    {
     "data": {
      "application/vnd.jupyter.widget-view+json": {
       "model_id": "bc7cd0cbca004f84b91cd27f1948d336",
       "version_major": 2,
       "version_minor": 0
      },
      "text/plain": [
       "SusceptEntEnt: N = 3 || s = 2:   0%|          | 0/500 [00:00<?, ?it/s]"
      ]
     },
     "metadata": {},
     "output_type": "display_data"
    },
    {
     "ename": "LinAlgError",
     "evalue": "Singular matrix",
     "output_type": "error",
     "traceback": [
      "\u001b[0;31m---------------------------------------------------------------------------\u001b[0m",
      "\u001b[0;31m_RemoteTraceback\u001b[0m                          Traceback (most recent call last)",
      "\u001b[0;31m_RemoteTraceback\u001b[0m: \n\"\"\"\nTraceback (most recent call last):\n  File \"/home/naturalis/miniconda3/envs/QuSpin/lib/python3.10/site-packages/joblib/externals/loky/process_executor.py\", line 463, in _process_worker\n    r = call_item()\n  File \"/home/naturalis/miniconda3/envs/QuSpin/lib/python3.10/site-packages/joblib/externals/loky/process_executor.py\", line 291, in __call__\n    return self.fn(*self.args, **self.kwargs)\n  File \"/home/naturalis/miniconda3/envs/QuSpin/lib/python3.10/site-packages/joblib/parallel.py\", line 598, in __call__\n    return [func(*args, **kwargs)\n  File \"/home/naturalis/miniconda3/envs/QuSpin/lib/python3.10/site-packages/joblib/parallel.py\", line 598, in <listcomp>\n    return [func(*args, **kwargs)\n  File \"/tmp/ipykernel_404179/3741947062.py\", line 17, in Sigma_h__nn_3\n  File \"/home/naturalis/miniconda3/envs/QuSpin/lib/python3.10/site-packages/numpy/linalg/_linalg.py\", line 608, in inv\n    ainv = _umath_linalg.inv(a, signature=signature)\n  File \"/home/naturalis/miniconda3/envs/QuSpin/lib/python3.10/site-packages/numpy/linalg/_linalg.py\", line 104, in _raise_linalgerror_singular\n    raise LinAlgError(\"Singular matrix\")\nnumpy.linalg.LinAlgError: Singular matrix\n\"\"\"",
      "\nThe above exception was the direct cause of the following exception:\n",
      "\u001b[0;31mLinAlgError\u001b[0m                               Traceback (most recent call last)",
      "Cell \u001b[0;32mIn[61], line 2\u001b[0m\n\u001b[1;32m      1\u001b[0m _s_data_3__1__FB_T \u001b[38;5;241m=\u001b[39m generate_susceptibility_data_nn_3(h_values, \u001b[38;5;241m3\u001b[39m, \u001b[38;5;241m1\u001b[39m)\n\u001b[0;32m----> 2\u001b[0m _s_data_3__2__FB_T \u001b[38;5;241m=\u001b[39m \u001b[43mgenerate_susceptibility_data_nn_3\u001b[49m\u001b[43m(\u001b[49m\u001b[43mh_values\u001b[49m\u001b[43m,\u001b[49m\u001b[43m \u001b[49m\u001b[38;5;241;43m3\u001b[39;49m\u001b[43m,\u001b[49m\u001b[43m \u001b[49m\u001b[38;5;241;43m2\u001b[39;49m\u001b[43m)\u001b[49m\n",
      "Cell \u001b[0;32mIn[43], line 2\u001b[0m, in \u001b[0;36mgenerate_susceptibility_data_nn_3\u001b[0;34m(h_values_array, size, rdm_size)\u001b[0m\n\u001b[1;32m      1\u001b[0m \u001b[38;5;28;01mdef\u001b[39;00m \u001b[38;5;21mgenerate_susceptibility_data_nn_3\u001b[39m(h_values_array, size, rdm_size):\n\u001b[0;32m----> 2\u001b[0m     \u001b[38;5;28;01mreturn\u001b[39;00m np\u001b[38;5;241m.\u001b[39marray(\u001b[43mParallel\u001b[49m\u001b[43m(\u001b[49m\u001b[43mn_jobs\u001b[49m\u001b[38;5;241;43m=\u001b[39;49m\u001b[38;5;241;43m12\u001b[39;49m\u001b[43m)\u001b[49m\u001b[43m(\u001b[49m\n\u001b[1;32m      3\u001b[0m \u001b[43m        \u001b[49m\u001b[43mdelayed\u001b[49m\u001b[43m(\u001b[49m\u001b[43mSigma_h__nn_3\u001b[49m\u001b[43m)\u001b[49m\u001b[43m(\u001b[49m\u001b[43msize\u001b[49m\u001b[43m,\u001b[49m\u001b[43m \u001b[49m\u001b[43mh\u001b[49m\u001b[43m,\u001b[49m\u001b[43m \u001b[49m\u001b[43mrdm_size\u001b[49m\u001b[43m,\u001b[49m\u001b[43m \u001b[49m\u001b[43mfix_GS_block\u001b[49m\u001b[38;5;241;43m=\u001b[39;49m\u001b[38;5;28;43;01mTrue\u001b[39;49;00m\u001b[43m)\u001b[49m\n\u001b[1;32m      4\u001b[0m \u001b[43m        \u001b[49m\u001b[38;5;28;43;01mfor\u001b[39;49;00m\u001b[43m \u001b[49m\u001b[43mh\u001b[49m\u001b[43m \u001b[49m\u001b[38;5;129;43;01min\u001b[39;49;00m\u001b[43m \u001b[49m\u001b[43mtqdm\u001b[49m\u001b[43m(\u001b[49m\u001b[43mh_values_array\u001b[49m\u001b[43m,\u001b[49m\u001b[43m \u001b[49m\u001b[43mdesc\u001b[49m\u001b[38;5;241;43m=\u001b[39;49m\u001b[38;5;124;43mf\u001b[39;49m\u001b[38;5;124;43m\"\u001b[39;49m\u001b[38;5;124;43mSusceptEntEnt: N = \u001b[39;49m\u001b[38;5;132;43;01m{\u001b[39;49;00m\u001b[43msize\u001b[49m\u001b[38;5;132;43;01m}\u001b[39;49;00m\u001b[38;5;124;43m || s = \u001b[39;49m\u001b[38;5;132;43;01m{\u001b[39;49;00m\u001b[43mrdm_size\u001b[49m\u001b[38;5;132;43;01m}\u001b[39;49;00m\u001b[38;5;124;43m\"\u001b[39;49m\u001b[43m)\u001b[49m\u001b[43m)\u001b[49m)\n",
      "File \u001b[0;32m~/miniconda3/envs/QuSpin/lib/python3.10/site-packages/joblib/parallel.py:2007\u001b[0m, in \u001b[0;36mParallel.__call__\u001b[0;34m(self, iterable)\u001b[0m\n\u001b[1;32m   2001\u001b[0m \u001b[38;5;66;03m# The first item from the output is blank, but it makes the interpreter\u001b[39;00m\n\u001b[1;32m   2002\u001b[0m \u001b[38;5;66;03m# progress until it enters the Try/Except block of the generator and\u001b[39;00m\n\u001b[1;32m   2003\u001b[0m \u001b[38;5;66;03m# reaches the first `yield` statement. This starts the asynchronous\u001b[39;00m\n\u001b[1;32m   2004\u001b[0m \u001b[38;5;66;03m# dispatch of the tasks to the workers.\u001b[39;00m\n\u001b[1;32m   2005\u001b[0m \u001b[38;5;28mnext\u001b[39m(output)\n\u001b[0;32m-> 2007\u001b[0m \u001b[38;5;28;01mreturn\u001b[39;00m output \u001b[38;5;28;01mif\u001b[39;00m \u001b[38;5;28mself\u001b[39m\u001b[38;5;241m.\u001b[39mreturn_generator \u001b[38;5;28;01melse\u001b[39;00m \u001b[38;5;28;43mlist\u001b[39;49m\u001b[43m(\u001b[49m\u001b[43moutput\u001b[49m\u001b[43m)\u001b[49m\n",
      "File \u001b[0;32m~/miniconda3/envs/QuSpin/lib/python3.10/site-packages/joblib/parallel.py:1650\u001b[0m, in \u001b[0;36mParallel._get_outputs\u001b[0;34m(self, iterator, pre_dispatch)\u001b[0m\n\u001b[1;32m   1647\u001b[0m     \u001b[38;5;28;01myield\u001b[39;00m\n\u001b[1;32m   1649\u001b[0m     \u001b[38;5;28;01mwith\u001b[39;00m \u001b[38;5;28mself\u001b[39m\u001b[38;5;241m.\u001b[39m_backend\u001b[38;5;241m.\u001b[39mretrieval_context():\n\u001b[0;32m-> 1650\u001b[0m         \u001b[38;5;28;01myield from\u001b[39;00m \u001b[38;5;28mself\u001b[39m\u001b[38;5;241m.\u001b[39m_retrieve()\n\u001b[1;32m   1652\u001b[0m \u001b[38;5;28;01mexcept\u001b[39;00m \u001b[38;5;167;01mGeneratorExit\u001b[39;00m:\n\u001b[1;32m   1653\u001b[0m     \u001b[38;5;66;03m# The generator has been garbage collected before being fully\u001b[39;00m\n\u001b[1;32m   1654\u001b[0m     \u001b[38;5;66;03m# consumed. This aborts the remaining tasks if possible and warn\u001b[39;00m\n\u001b[1;32m   1655\u001b[0m     \u001b[38;5;66;03m# the user if necessary.\u001b[39;00m\n\u001b[1;32m   1656\u001b[0m     \u001b[38;5;28mself\u001b[39m\u001b[38;5;241m.\u001b[39m_exception \u001b[38;5;241m=\u001b[39m \u001b[38;5;28;01mTrue\u001b[39;00m\n",
      "File \u001b[0;32m~/miniconda3/envs/QuSpin/lib/python3.10/site-packages/joblib/parallel.py:1754\u001b[0m, in \u001b[0;36mParallel._retrieve\u001b[0;34m(self)\u001b[0m\n\u001b[1;32m   1747\u001b[0m \u001b[38;5;28;01mwhile\u001b[39;00m \u001b[38;5;28mself\u001b[39m\u001b[38;5;241m.\u001b[39m_wait_retrieval():\n\u001b[1;32m   1748\u001b[0m \n\u001b[1;32m   1749\u001b[0m     \u001b[38;5;66;03m# If the callback thread of a worker has signaled that its task\u001b[39;00m\n\u001b[1;32m   1750\u001b[0m     \u001b[38;5;66;03m# triggered an exception, or if the retrieval loop has raised an\u001b[39;00m\n\u001b[1;32m   1751\u001b[0m     \u001b[38;5;66;03m# exception (e.g. `GeneratorExit`), exit the loop and surface the\u001b[39;00m\n\u001b[1;32m   1752\u001b[0m     \u001b[38;5;66;03m# worker traceback.\u001b[39;00m\n\u001b[1;32m   1753\u001b[0m     \u001b[38;5;28;01mif\u001b[39;00m \u001b[38;5;28mself\u001b[39m\u001b[38;5;241m.\u001b[39m_aborting:\n\u001b[0;32m-> 1754\u001b[0m         \u001b[38;5;28;43mself\u001b[39;49m\u001b[38;5;241;43m.\u001b[39;49m\u001b[43m_raise_error_fast\u001b[49m\u001b[43m(\u001b[49m\u001b[43m)\u001b[49m\n\u001b[1;32m   1755\u001b[0m         \u001b[38;5;28;01mbreak\u001b[39;00m\n\u001b[1;32m   1757\u001b[0m     \u001b[38;5;66;03m# If the next job is not ready for retrieval yet, we just wait for\u001b[39;00m\n\u001b[1;32m   1758\u001b[0m     \u001b[38;5;66;03m# async callbacks to progress.\u001b[39;00m\n",
      "File \u001b[0;32m~/miniconda3/envs/QuSpin/lib/python3.10/site-packages/joblib/parallel.py:1789\u001b[0m, in \u001b[0;36mParallel._raise_error_fast\u001b[0;34m(self)\u001b[0m\n\u001b[1;32m   1785\u001b[0m \u001b[38;5;66;03m# If this error job exists, immediately raise the error by\u001b[39;00m\n\u001b[1;32m   1786\u001b[0m \u001b[38;5;66;03m# calling get_result. This job might not exists if abort has been\u001b[39;00m\n\u001b[1;32m   1787\u001b[0m \u001b[38;5;66;03m# called directly or if the generator is gc'ed.\u001b[39;00m\n\u001b[1;32m   1788\u001b[0m \u001b[38;5;28;01mif\u001b[39;00m error_job \u001b[38;5;129;01mis\u001b[39;00m \u001b[38;5;129;01mnot\u001b[39;00m \u001b[38;5;28;01mNone\u001b[39;00m:\n\u001b[0;32m-> 1789\u001b[0m     \u001b[43merror_job\u001b[49m\u001b[38;5;241;43m.\u001b[39;49m\u001b[43mget_result\u001b[49m\u001b[43m(\u001b[49m\u001b[38;5;28;43mself\u001b[39;49m\u001b[38;5;241;43m.\u001b[39;49m\u001b[43mtimeout\u001b[49m\u001b[43m)\u001b[49m\n",
      "File \u001b[0;32m~/miniconda3/envs/QuSpin/lib/python3.10/site-packages/joblib/parallel.py:745\u001b[0m, in \u001b[0;36mBatchCompletionCallBack.get_result\u001b[0;34m(self, timeout)\u001b[0m\n\u001b[1;32m    739\u001b[0m backend \u001b[38;5;241m=\u001b[39m \u001b[38;5;28mself\u001b[39m\u001b[38;5;241m.\u001b[39mparallel\u001b[38;5;241m.\u001b[39m_backend\n\u001b[1;32m    741\u001b[0m \u001b[38;5;28;01mif\u001b[39;00m backend\u001b[38;5;241m.\u001b[39msupports_retrieve_callback:\n\u001b[1;32m    742\u001b[0m     \u001b[38;5;66;03m# We assume that the result has already been retrieved by the\u001b[39;00m\n\u001b[1;32m    743\u001b[0m     \u001b[38;5;66;03m# callback thread, and is stored internally. It's just waiting to\u001b[39;00m\n\u001b[1;32m    744\u001b[0m     \u001b[38;5;66;03m# be returned.\u001b[39;00m\n\u001b[0;32m--> 745\u001b[0m     \u001b[38;5;28;01mreturn\u001b[39;00m \u001b[38;5;28;43mself\u001b[39;49m\u001b[38;5;241;43m.\u001b[39;49m\u001b[43m_return_or_raise\u001b[49m\u001b[43m(\u001b[49m\u001b[43m)\u001b[49m\n\u001b[1;32m    747\u001b[0m \u001b[38;5;66;03m# For other backends, the main thread needs to run the retrieval step.\u001b[39;00m\n\u001b[1;32m    748\u001b[0m \u001b[38;5;28;01mtry\u001b[39;00m:\n",
      "File \u001b[0;32m~/miniconda3/envs/QuSpin/lib/python3.10/site-packages/joblib/parallel.py:763\u001b[0m, in \u001b[0;36mBatchCompletionCallBack._return_or_raise\u001b[0;34m(self)\u001b[0m\n\u001b[1;32m    761\u001b[0m \u001b[38;5;28;01mtry\u001b[39;00m:\n\u001b[1;32m    762\u001b[0m     \u001b[38;5;28;01mif\u001b[39;00m \u001b[38;5;28mself\u001b[39m\u001b[38;5;241m.\u001b[39mstatus \u001b[38;5;241m==\u001b[39m TASK_ERROR:\n\u001b[0;32m--> 763\u001b[0m         \u001b[38;5;28;01mraise\u001b[39;00m \u001b[38;5;28mself\u001b[39m\u001b[38;5;241m.\u001b[39m_result\n\u001b[1;32m    764\u001b[0m     \u001b[38;5;28;01mreturn\u001b[39;00m \u001b[38;5;28mself\u001b[39m\u001b[38;5;241m.\u001b[39m_result\n\u001b[1;32m    765\u001b[0m \u001b[38;5;28;01mfinally\u001b[39;00m:\n",
      "\u001b[0;31mLinAlgError\u001b[0m: Singular matrix"
     ]
    }
   ],
   "source": [
    "_s_data_3__1__FB_T = generate_susceptibility_data_nn_3(h_values, 3, 1)\n",
    "_s_data_3__2__FB_T = generate_susceptibility_data_nn_3(h_values, 3, 2)"
   ]
  },
  {
   "cell_type": "code",
   "execution_count": null,
   "metadata": {},
   "outputs": [],
   "source": [
    "plt.figure(figsize=(8*1.2, 5*1.2))\n",
    "\n",
    "pointSize = 5\n",
    "\n",
    "plt.scatter(h_values, _entent_3__1__FB_T, label=f'EntEnt: N=3 | rdm_s = 1', s=pointSize)\n",
    "plt.scatter(h_values, _entent_3__2__FB_T, label=f'EntEnt: N=3 | rdm_s = 2', s=pointSize)\n",
    "\n",
    "\n",
    "plt.scatter(h_values, _s_data_3__1__FB_T, label=f'Suscept: N=3 | rdm_s = 1', s=pointSize)\n",
    "plt.scatter(h_values, _s_data_3__2__FB_T, label=f'Suscept: N=3 | rdm_s = 2', s=pointSize)\n",
    "\n",
    "\n",
    "plt.axvline(x=-1.0000000000, color='black', linestyle='dashed', label=\"h = - 1.0\")\n",
    "# plt.axvline(x=0.0000000000, color='black', linestyle='solid', label=\"h = 0.0\")\n",
    "plt.axvline(x=1.0000000000, color='black', linestyle=':', label=\"h = 1.0\")\n",
    "\n",
    "plt.xlabel('h', fontsize=12)\n",
    "plt.ylabel('Sigma_h', fontsize=12)\n",
    "plt.title(f'k_nn_Ising: k=3', fontsize=14)\n",
    "plt.legend(loc='center', fontsize=10)\n",
    "plt.show()"
   ]
  },
  {
   "cell_type": "code",
   "execution_count": 48,
   "metadata": {},
   "outputs": [
    {
     "name": "stdout",
     "output_type": "stream",
     "text": [
      "For this test, only the (D_i) sectors are used without choosing any momentum sector.\n",
      "\n",
      "Exact diagonalization - No restriction on the Hilbert space\n",
      "Ground state energy of 6 spins = -7.483314773547879\n",
      "sector size = 64\n",
      "took 0.008338 seconds\n",
      "\n",
      "Exact diagonalization with only {D1, D2, D3} symmetries\n",
      "Ground state energy of 6 spins = -7.483314773547882\n",
      "sector size = 16\n",
      "took 0.429908 seconds\n",
      "\n",
      "Error in ground state energy = 2.6645352591003757e-15\n",
      "With dimensional reduction : (prev_sector_dim / reduced_sector_dim)  = 4.0 fold reduction in the Hilbert space\n"
     ]
    }
   ],
   "source": [
    "N = 6\n",
    "h_VAL = 1.0\n",
    "st__0 = T.time()\n",
    "\n",
    "print('For this test, only the (D_i) sectors are used without choosing any momentum sector.')\n",
    "gs_energy, basis, gs_wvfunc = ThreeSpinIsing_GS__no_symm_(N, h_VAL)\n",
    "print('\\nExact diagonalization - No restriction on the Hilbert space')\n",
    "print(f'Ground state energy of {N} spins = {gs_energy}')\n",
    "print(f'sector size = {len(basis._basis)}')\n",
    "print(f'took {T.time()-st__0:.6f} seconds\\n')\n",
    "st__0 = T.time()\n",
    "\n",
    "print('Exact diagonalization with only {D1, D2, D3} symmetries')\n",
    "gs_energy__, basis__, gs_wvfunc__ = ThreeSpinIsing_GS__sublattice_symm_3(N, h_VAL)\n",
    "print(f'Ground state energy of {N} spins = {gs_energy__}')\n",
    "print(f'sector size = {len(basis__._basis)}')\n",
    "print(f'took {T.time()-st__0:.6f} seconds\\n')\n",
    "\n",
    "print(f'Error in ground state energy = {abs(gs_energy__-gs_energy)}')\n",
    "print(f'With dimensional reduction : (prev_sector_dim / reduced_sector_dim)  = {len(basis._basis)/len(basis__._basis)} fold reduction in the Hilbert space')"
   ]
  },
  {
   "cell_type": "code",
   "execution_count": null,
   "metadata": {},
   "outputs": [],
   "source": []
  },
  {
   "cell_type": "code",
   "execution_count": null,
   "metadata": {},
   "outputs": [],
   "source": []
  },
  {
   "cell_type": "code",
   "execution_count": null,
   "metadata": {},
   "outputs": [],
   "source": []
  }
 ],
 "metadata": {
  "kernelspec": {
   "display_name": "QuSpin",
   "language": "python",
   "name": "python3"
  },
  "language_info": {
   "codemirror_mode": {
    "name": "ipython",
    "version": 3
   },
   "file_extension": ".py",
   "mimetype": "text/x-python",
   "name": "python",
   "nbconvert_exporter": "python",
   "pygments_lexer": "ipython3",
   "version": "3.10.15"
  }
 },
 "nbformat": 4,
 "nbformat_minor": 2
}
